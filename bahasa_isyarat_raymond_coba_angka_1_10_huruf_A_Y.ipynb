{
  "cells": [
    {
      "cell_type": "markdown",
      "metadata": {
        "id": "view-in-github",
        "colab_type": "text"
      },
      "source": [
        "<a href=\"https://colab.research.google.com/github/stefanusra82/kotlin-by-example/blob/master/bahasa_isyarat_raymond_coba_angka_1_10_huruf_A_Y.ipynb\" target=\"_parent\"><img src=\"https://colab.research.google.com/assets/colab-badge.svg\" alt=\"Open In Colab\"/></a>"
      ]
    },
    {
      "cell_type": "code",
      "execution_count": null,
      "metadata": {
        "colab": {
          "base_uri": "https://localhost:8080/"
        },
        "id": "EvKFBkrHcTpx",
        "outputId": "4f154b59-d04a-4dd9-eb8a-005dc313893e"
      },
      "outputs": [
        {
          "output_type": "stream",
          "name": "stdout",
          "text": [
            "Collecting mediapipe\n",
            "  Downloading mediapipe-0.10.21-cp311-cp311-manylinux_2_28_x86_64.whl.metadata (9.7 kB)\n",
            "Requirement already satisfied: absl-py in /usr/local/lib/python3.11/dist-packages (from mediapipe) (1.4.0)\n",
            "Requirement already satisfied: attrs>=19.1.0 in /usr/local/lib/python3.11/dist-packages (from mediapipe) (25.3.0)\n",
            "Requirement already satisfied: flatbuffers>=2.0 in /usr/local/lib/python3.11/dist-packages (from mediapipe) (25.2.10)\n",
            "Requirement already satisfied: jax in /usr/local/lib/python3.11/dist-packages (from mediapipe) (0.5.2)\n",
            "Requirement already satisfied: jaxlib in /usr/local/lib/python3.11/dist-packages (from mediapipe) (0.5.1)\n",
            "Requirement already satisfied: matplotlib in /usr/local/lib/python3.11/dist-packages (from mediapipe) (3.10.0)\n",
            "Collecting numpy<2 (from mediapipe)\n",
            "  Downloading numpy-1.26.4-cp311-cp311-manylinux_2_17_x86_64.manylinux2014_x86_64.whl.metadata (61 kB)\n",
            "\u001b[2K     \u001b[90m━━━━━━━━━━━━━━━━━━━━━━━━━━━━━━━━━━━━━━━\u001b[0m \u001b[32m61.0/61.0 kB\u001b[0m \u001b[31m427.7 kB/s\u001b[0m eta \u001b[36m0:00:00\u001b[0m\n",
            "\u001b[?25hRequirement already satisfied: opencv-contrib-python in /usr/local/lib/python3.11/dist-packages (from mediapipe) (4.11.0.86)\n",
            "Collecting protobuf<5,>=4.25.3 (from mediapipe)\n",
            "  Downloading protobuf-4.25.7-cp37-abi3-manylinux2014_x86_64.whl.metadata (541 bytes)\n",
            "Collecting sounddevice>=0.4.4 (from mediapipe)\n",
            "  Downloading sounddevice-0.5.2-py3-none-any.whl.metadata (1.6 kB)\n",
            "Requirement already satisfied: sentencepiece in /usr/local/lib/python3.11/dist-packages (from mediapipe) (0.2.0)\n",
            "Requirement already satisfied: CFFI>=1.0 in /usr/local/lib/python3.11/dist-packages (from sounddevice>=0.4.4->mediapipe) (1.17.1)\n",
            "Requirement already satisfied: ml_dtypes>=0.4.0 in /usr/local/lib/python3.11/dist-packages (from jax->mediapipe) (0.4.1)\n",
            "Requirement already satisfied: opt_einsum in /usr/local/lib/python3.11/dist-packages (from jax->mediapipe) (3.4.0)\n",
            "Requirement already satisfied: scipy>=1.11.1 in /usr/local/lib/python3.11/dist-packages (from jax->mediapipe) (1.15.3)\n",
            "Requirement already satisfied: contourpy>=1.0.1 in /usr/local/lib/python3.11/dist-packages (from matplotlib->mediapipe) (1.3.2)\n",
            "Requirement already satisfied: cycler>=0.10 in /usr/local/lib/python3.11/dist-packages (from matplotlib->mediapipe) (0.12.1)\n",
            "Requirement already satisfied: fonttools>=4.22.0 in /usr/local/lib/python3.11/dist-packages (from matplotlib->mediapipe) (4.58.0)\n",
            "Requirement already satisfied: kiwisolver>=1.3.1 in /usr/local/lib/python3.11/dist-packages (from matplotlib->mediapipe) (1.4.8)\n",
            "Requirement already satisfied: packaging>=20.0 in /usr/local/lib/python3.11/dist-packages (from matplotlib->mediapipe) (24.2)\n",
            "Requirement already satisfied: pillow>=8 in /usr/local/lib/python3.11/dist-packages (from matplotlib->mediapipe) (11.2.1)\n",
            "Requirement already satisfied: pyparsing>=2.3.1 in /usr/local/lib/python3.11/dist-packages (from matplotlib->mediapipe) (3.2.3)\n",
            "Requirement already satisfied: python-dateutil>=2.7 in /usr/local/lib/python3.11/dist-packages (from matplotlib->mediapipe) (2.9.0.post0)\n",
            "Requirement already satisfied: pycparser in /usr/local/lib/python3.11/dist-packages (from CFFI>=1.0->sounddevice>=0.4.4->mediapipe) (2.22)\n",
            "Requirement already satisfied: six>=1.5 in /usr/local/lib/python3.11/dist-packages (from python-dateutil>=2.7->matplotlib->mediapipe) (1.17.0)\n",
            "Downloading mediapipe-0.10.21-cp311-cp311-manylinux_2_28_x86_64.whl (35.6 MB)\n",
            "\u001b[2K   \u001b[90m━━━━━━━━━━━━━━━━━━━━━━━━━━━━━━━━━━━━━━━━\u001b[0m \u001b[32m35.6/35.6 MB\u001b[0m \u001b[31m12.3 MB/s\u001b[0m eta \u001b[36m0:00:00\u001b[0m\n",
            "\u001b[?25hDownloading numpy-1.26.4-cp311-cp311-manylinux_2_17_x86_64.manylinux2014_x86_64.whl (18.3 MB)\n",
            "\u001b[2K   \u001b[90m━━━━━━━━━━━━━━━━━━━━━━━━━━━━━━━━━━━━━━━━\u001b[0m \u001b[32m18.3/18.3 MB\u001b[0m \u001b[31m31.4 MB/s\u001b[0m eta \u001b[36m0:00:00\u001b[0m\n",
            "\u001b[?25hDownloading protobuf-4.25.7-cp37-abi3-manylinux2014_x86_64.whl (294 kB)\n",
            "\u001b[2K   \u001b[90m━━━━━━━━━━━━━━━━━━━━━━━━━━━━━━━━━━━━━━━━\u001b[0m \u001b[32m294.6/294.6 kB\u001b[0m \u001b[31m16.6 MB/s\u001b[0m eta \u001b[36m0:00:00\u001b[0m\n",
            "\u001b[?25hDownloading sounddevice-0.5.2-py3-none-any.whl (32 kB)\n",
            "Installing collected packages: protobuf, numpy, sounddevice, mediapipe\n",
            "  Attempting uninstall: protobuf\n",
            "    Found existing installation: protobuf 5.29.4\n",
            "    Uninstalling protobuf-5.29.4:\n",
            "      Successfully uninstalled protobuf-5.29.4\n",
            "  Attempting uninstall: numpy\n",
            "    Found existing installation: numpy 2.0.2\n",
            "    Uninstalling numpy-2.0.2:\n",
            "      Successfully uninstalled numpy-2.0.2\n",
            "\u001b[31mERROR: pip's dependency resolver does not currently take into account all the packages that are installed. This behaviour is the source of the following dependency conflicts.\n",
            "ydf 0.11.0 requires protobuf<6.0.0,>=5.29.1, but you have protobuf 4.25.7 which is incompatible.\n",
            "thinc 8.3.6 requires numpy<3.0.0,>=2.0.0, but you have numpy 1.26.4 which is incompatible.\n",
            "grpcio-status 1.71.0 requires protobuf<6.0dev,>=5.26.1, but you have protobuf 4.25.7 which is incompatible.\u001b[0m\u001b[31m\n",
            "\u001b[0mSuccessfully installed mediapipe-0.10.21 numpy-1.26.4 protobuf-4.25.7 sounddevice-0.5.2\n"
          ]
        }
      ],
      "source": [
        "!pip install mediapipe"
      ]
    },
    {
      "source": [
        "!pip install --upgrade numpy\n",
        "!pip install --upgrade mediapipe"
      ],
      "cell_type": "code",
      "metadata": {
        "id": "Xx6Jxe-wmkkA",
        "colab": {
          "base_uri": "https://localhost:8080/"
        },
        "outputId": "5a42aa4f-df8e-4fbb-c12e-355eaa863423"
      },
      "execution_count": null,
      "outputs": [
        {
          "output_type": "stream",
          "name": "stdout",
          "text": [
            "Requirement already satisfied: numpy in /usr/local/lib/python3.11/dist-packages (1.26.4)\n",
            "Collecting numpy\n",
            "  Downloading numpy-2.2.6-cp311-cp311-manylinux_2_17_x86_64.manylinux2014_x86_64.whl.metadata (62 kB)\n",
            "\u001b[2K     \u001b[90m━━━━━━━━━━━━━━━━━━━━━━━━━━━━━━━━━━━━━━━━\u001b[0m \u001b[32m62.0/62.0 kB\u001b[0m \u001b[31m1.5 MB/s\u001b[0m eta \u001b[36m0:00:00\u001b[0m\n",
            "\u001b[?25hDownloading numpy-2.2.6-cp311-cp311-manylinux_2_17_x86_64.manylinux2014_x86_64.whl (16.8 MB)\n",
            "\u001b[2K   \u001b[90m━━━━━━━━━━━━━━━━━━━━━━━━━━━━━━━━━━━━━━━━\u001b[0m \u001b[32m16.8/16.8 MB\u001b[0m \u001b[31m80.8 MB/s\u001b[0m eta \u001b[36m0:00:00\u001b[0m\n",
            "\u001b[?25hInstalling collected packages: numpy\n",
            "  Attempting uninstall: numpy\n",
            "    Found existing installation: numpy 1.26.4\n",
            "    Uninstalling numpy-1.26.4:\n",
            "      Successfully uninstalled numpy-1.26.4\n",
            "\u001b[31mERROR: pip's dependency resolver does not currently take into account all the packages that are installed. This behaviour is the source of the following dependency conflicts.\n",
            "mediapipe 0.10.21 requires numpy<2, but you have numpy 2.2.6 which is incompatible.\n",
            "tensorflow 2.18.0 requires numpy<2.1.0,>=1.26.0, but you have numpy 2.2.6 which is incompatible.\n",
            "ydf 0.11.0 requires protobuf<6.0.0,>=5.29.1, but you have protobuf 4.25.7 which is incompatible.\n",
            "numba 0.60.0 requires numpy<2.1,>=1.22, but you have numpy 2.2.6 which is incompatible.\u001b[0m\u001b[31m\n",
            "\u001b[0mSuccessfully installed numpy-2.2.6\n",
            "Requirement already satisfied: mediapipe in /usr/local/lib/python3.11/dist-packages (0.10.21)\n",
            "Requirement already satisfied: absl-py in /usr/local/lib/python3.11/dist-packages (from mediapipe) (1.4.0)\n",
            "Requirement already satisfied: attrs>=19.1.0 in /usr/local/lib/python3.11/dist-packages (from mediapipe) (25.3.0)\n",
            "Requirement already satisfied: flatbuffers>=2.0 in /usr/local/lib/python3.11/dist-packages (from mediapipe) (25.2.10)\n",
            "Requirement already satisfied: jax in /usr/local/lib/python3.11/dist-packages (from mediapipe) (0.5.2)\n",
            "Requirement already satisfied: jaxlib in /usr/local/lib/python3.11/dist-packages (from mediapipe) (0.5.1)\n",
            "Requirement already satisfied: matplotlib in /usr/local/lib/python3.11/dist-packages (from mediapipe) (3.10.0)\n",
            "Collecting numpy<2 (from mediapipe)\n",
            "  Using cached numpy-1.26.4-cp311-cp311-manylinux_2_17_x86_64.manylinux2014_x86_64.whl.metadata (61 kB)\n",
            "Requirement already satisfied: opencv-contrib-python in /usr/local/lib/python3.11/dist-packages (from mediapipe) (4.11.0.86)\n",
            "Requirement already satisfied: protobuf<5,>=4.25.3 in /usr/local/lib/python3.11/dist-packages (from mediapipe) (4.25.7)\n",
            "Requirement already satisfied: sounddevice>=0.4.4 in /usr/local/lib/python3.11/dist-packages (from mediapipe) (0.5.2)\n",
            "Requirement already satisfied: sentencepiece in /usr/local/lib/python3.11/dist-packages (from mediapipe) (0.2.0)\n",
            "Requirement already satisfied: CFFI>=1.0 in /usr/local/lib/python3.11/dist-packages (from sounddevice>=0.4.4->mediapipe) (1.17.1)\n",
            "Requirement already satisfied: ml_dtypes>=0.4.0 in /usr/local/lib/python3.11/dist-packages (from jax->mediapipe) (0.4.1)\n",
            "Requirement already satisfied: opt_einsum in /usr/local/lib/python3.11/dist-packages (from jax->mediapipe) (3.4.0)\n",
            "Requirement already satisfied: scipy>=1.11.1 in /usr/local/lib/python3.11/dist-packages (from jax->mediapipe) (1.15.3)\n",
            "Requirement already satisfied: contourpy>=1.0.1 in /usr/local/lib/python3.11/dist-packages (from matplotlib->mediapipe) (1.3.2)\n",
            "Requirement already satisfied: cycler>=0.10 in /usr/local/lib/python3.11/dist-packages (from matplotlib->mediapipe) (0.12.1)\n",
            "Requirement already satisfied: fonttools>=4.22.0 in /usr/local/lib/python3.11/dist-packages (from matplotlib->mediapipe) (4.58.0)\n",
            "Requirement already satisfied: kiwisolver>=1.3.1 in /usr/local/lib/python3.11/dist-packages (from matplotlib->mediapipe) (1.4.8)\n",
            "Requirement already satisfied: packaging>=20.0 in /usr/local/lib/python3.11/dist-packages (from matplotlib->mediapipe) (24.2)\n",
            "Requirement already satisfied: pillow>=8 in /usr/local/lib/python3.11/dist-packages (from matplotlib->mediapipe) (11.2.1)\n",
            "Requirement already satisfied: pyparsing>=2.3.1 in /usr/local/lib/python3.11/dist-packages (from matplotlib->mediapipe) (3.2.3)\n",
            "Requirement already satisfied: python-dateutil>=2.7 in /usr/local/lib/python3.11/dist-packages (from matplotlib->mediapipe) (2.9.0.post0)\n",
            "Requirement already satisfied: pycparser in /usr/local/lib/python3.11/dist-packages (from CFFI>=1.0->sounddevice>=0.4.4->mediapipe) (2.22)\n",
            "Requirement already satisfied: six>=1.5 in /usr/local/lib/python3.11/dist-packages (from python-dateutil>=2.7->matplotlib->mediapipe) (1.17.0)\n",
            "Using cached numpy-1.26.4-cp311-cp311-manylinux_2_17_x86_64.manylinux2014_x86_64.whl (18.3 MB)\n",
            "Installing collected packages: numpy\n",
            "  Attempting uninstall: numpy\n",
            "    Found existing installation: numpy 2.2.6\n",
            "    Uninstalling numpy-2.2.6:\n",
            "      Successfully uninstalled numpy-2.2.6\n",
            "\u001b[31mERROR: pip's dependency resolver does not currently take into account all the packages that are installed. This behaviour is the source of the following dependency conflicts.\n",
            "ydf 0.11.0 requires protobuf<6.0.0,>=5.29.1, but you have protobuf 4.25.7 which is incompatible.\n",
            "thinc 8.3.6 requires numpy<3.0.0,>=2.0.0, but you have numpy 1.26.4 which is incompatible.\u001b[0m\u001b[31m\n",
            "\u001b[0mSuccessfully installed numpy-1.26.4\n"
          ]
        }
      ]
    },
    {
      "cell_type": "markdown",
      "source": [
        "## Menghubungkan Google Drive ke Colab\n",
        "Jalankan kode berikut di Colab untuk mengakses dataset di Google Drive:"
      ],
      "metadata": {
        "id": "Dk3qhRWTL2CP"
      }
    },
    {
      "cell_type": "code",
      "execution_count": null,
      "metadata": {
        "colab": {
          "base_uri": "https://localhost:8080/"
        },
        "id": "gL3T01pHvzze",
        "outputId": "ec5a9181-d0dc-4a57-db92-1c3c5492916e"
      },
      "outputs": [
        {
          "output_type": "stream",
          "name": "stdout",
          "text": [
            "Mounted at /content/drive\n"
          ]
        }
      ],
      "source": [
        "from google.colab import drive\n",
        "drive.mount('/content/drive')"
      ]
    },
    {
      "cell_type": "markdown",
      "source": [
        "## Cek Hasil Pembagian Dataset\n",
        "Setelah script dijalankan, cek jumlah gambar di setiap folder dengan"
      ],
      "metadata": {
        "id": "5SlG-_70MspN"
      }
    },
    {
      "cell_type": "code",
      "source": [
        "import os\n",
        "dataset_path_folder = \"/content/drive/MyDrive/Dataset\"\n",
        "for split in [\"train\", \"validasi\", \"test\"]:\n",
        "    total = sum(len(files) for _, _, files in os.walk(os.path.join(dataset_path_folder, split)))\n",
        "    print(f\"Total gambar di {split}: {total}\")"
      ],
      "metadata": {
        "colab": {
          "base_uri": "https://localhost:8080/"
        },
        "id": "LErohiZhMvxd",
        "outputId": "c0ed163e-2357-4b22-908b-b6ab7163f6ac"
      },
      "execution_count": null,
      "outputs": [
        {
          "output_type": "stream",
          "name": "stdout",
          "text": [
            "Total gambar di train: 5440\n",
            "Total gambar di validasi: 680\n",
            "Total gambar di test: 680\n"
          ]
        }
      ]
    },
    {
      "cell_type": "markdown",
      "source": [
        "## Berikut adalah kode untuk menghitung total gambar tiap kelas di folder train, validasi, dan test"
      ],
      "metadata": {
        "id": "xAswSeMcWQES"
      }
    },
    {
      "cell_type": "code",
      "source": [
        "import os\n",
        "\n",
        "def count_images_per_class(dataset_path_Folder):\n",
        "    \"\"\"Menghitung jumlah gambar per kelas di dataset.\"\"\"\n",
        "    class_counts = {}\n",
        "    for split in [\"train\", \"validasi\", \"test\"]:\n",
        "        split_path_name = os.path.join(dataset_path_Folder, split)\n",
        "        for class_name_original in os.listdir(split_path_name):\n",
        "            class_path_original = os.path.join(split_path_name, class_name_original)\n",
        "            image_count = len([f for f in os.listdir(class_path_original) if os.path.isfile(os.path.join(class_path_original, f))])\n",
        "            class_counts[f\"{split}/{class_name_original}\"] = image_count\n",
        "    return class_counts\n",
        "\n",
        "# Path ke folder dataset utama\n",
        "dataset_path_Folder = \"/content/drive/MyDrive/Dataset\"\n",
        "\n",
        "# Hitung jumlah gambar per kelas\n",
        "class_counts = count_images_per_class(dataset_path_Folder)\n",
        "\n",
        "# Print hasilnya\n",
        "for class_name_original, count in class_counts.items():\n",
        "    print(f\"Jumlah gambar di {class_name_original}: {count}\")"
      ],
      "metadata": {
        "colab": {
          "base_uri": "https://localhost:8080/"
        },
        "id": "msHLlK70WLxC",
        "outputId": "1c7aa9a8-485c-45fc-99ec-be9182d36f75"
      },
      "execution_count": null,
      "outputs": [
        {
          "output_type": "stream",
          "name": "stdout",
          "text": [
            "Jumlah gambar di train/tiga: 160\n",
            "Jumlah gambar di train/tujuh: 160\n",
            "Jumlah gambar di train/enam: 160\n",
            "Jumlah gambar di train/sepuluh: 160\n",
            "Jumlah gambar di train/empat: 160\n",
            "Jumlah gambar di train/satu: 160\n",
            "Jumlah gambar di train/lima: 160\n",
            "Jumlah gambar di train/delapan: 160\n",
            "Jumlah gambar di train/dua: 160\n",
            "Jumlah gambar di train/sembilan: 160\n",
            "Jumlah gambar di train/a: 160\n",
            "Jumlah gambar di train/b: 160\n",
            "Jumlah gambar di train/c: 160\n",
            "Jumlah gambar di train/d: 160\n",
            "Jumlah gambar di train/e: 160\n",
            "Jumlah gambar di train/f: 160\n",
            "Jumlah gambar di train/g: 160\n",
            "Jumlah gambar di train/h: 160\n",
            "Jumlah gambar di train/i: 160\n",
            "Jumlah gambar di train/k: 160\n",
            "Jumlah gambar di train/l: 160\n",
            "Jumlah gambar di train/m: 160\n",
            "Jumlah gambar di train/n: 160\n",
            "Jumlah gambar di train/o: 160\n",
            "Jumlah gambar di train/p: 160\n",
            "Jumlah gambar di train/q: 160\n",
            "Jumlah gambar di train/r: 160\n",
            "Jumlah gambar di train/s: 160\n",
            "Jumlah gambar di train/t: 160\n",
            "Jumlah gambar di train/u: 160\n",
            "Jumlah gambar di train/v: 160\n",
            "Jumlah gambar di train/w: 160\n",
            "Jumlah gambar di train/x: 160\n",
            "Jumlah gambar di train/y: 160\n",
            "Jumlah gambar di validasi/lima: 20\n",
            "Jumlah gambar di validasi/enam: 20\n",
            "Jumlah gambar di validasi/sembilan: 20\n",
            "Jumlah gambar di validasi/dua: 20\n",
            "Jumlah gambar di validasi/sepuluh: 20\n",
            "Jumlah gambar di validasi/satu: 20\n",
            "Jumlah gambar di validasi/delapan: 20\n",
            "Jumlah gambar di validasi/tiga: 20\n",
            "Jumlah gambar di validasi/tujuh: 20\n",
            "Jumlah gambar di validasi/empat: 20\n",
            "Jumlah gambar di validasi/a: 20\n",
            "Jumlah gambar di validasi/b: 20\n",
            "Jumlah gambar di validasi/c: 20\n",
            "Jumlah gambar di validasi/d: 20\n",
            "Jumlah gambar di validasi/e: 20\n",
            "Jumlah gambar di validasi/f: 20\n",
            "Jumlah gambar di validasi/g: 20\n",
            "Jumlah gambar di validasi/h: 20\n",
            "Jumlah gambar di validasi/i: 20\n",
            "Jumlah gambar di validasi/k: 20\n",
            "Jumlah gambar di validasi/l: 20\n",
            "Jumlah gambar di validasi/m: 20\n",
            "Jumlah gambar di validasi/n: 20\n",
            "Jumlah gambar di validasi/o: 20\n",
            "Jumlah gambar di validasi/p: 20\n",
            "Jumlah gambar di validasi/q: 20\n",
            "Jumlah gambar di validasi/r: 20\n",
            "Jumlah gambar di validasi/s: 20\n",
            "Jumlah gambar di validasi/t: 20\n",
            "Jumlah gambar di validasi/u: 20\n",
            "Jumlah gambar di validasi/v: 20\n",
            "Jumlah gambar di validasi/w: 20\n",
            "Jumlah gambar di validasi/x: 20\n",
            "Jumlah gambar di validasi/y: 20\n",
            "Jumlah gambar di test/delapan: 20\n",
            "Jumlah gambar di test/enam: 20\n",
            "Jumlah gambar di test/tiga: 20\n",
            "Jumlah gambar di test/satu: 20\n",
            "Jumlah gambar di test/tujuh: 20\n",
            "Jumlah gambar di test/sembilan: 20\n",
            "Jumlah gambar di test/lima: 20\n",
            "Jumlah gambar di test/empat: 20\n",
            "Jumlah gambar di test/sepuluh: 20\n",
            "Jumlah gambar di test/dua: 20\n",
            "Jumlah gambar di test/a: 20\n",
            "Jumlah gambar di test/b: 20\n",
            "Jumlah gambar di test/c: 20\n",
            "Jumlah gambar di test/d: 20\n",
            "Jumlah gambar di test/e: 20\n",
            "Jumlah gambar di test/f: 20\n",
            "Jumlah gambar di test/g: 20\n",
            "Jumlah gambar di test/h: 20\n",
            "Jumlah gambar di test/i: 20\n",
            "Jumlah gambar di test/k: 20\n",
            "Jumlah gambar di test/l: 20\n",
            "Jumlah gambar di test/m: 20\n",
            "Jumlah gambar di test/n: 20\n",
            "Jumlah gambar di test/o: 20\n",
            "Jumlah gambar di test/p: 20\n",
            "Jumlah gambar di test/q: 20\n",
            "Jumlah gambar di test/r: 20\n",
            "Jumlah gambar di test/s: 20\n",
            "Jumlah gambar di test/t: 20\n",
            "Jumlah gambar di test/u: 20\n",
            "Jumlah gambar di test/v: 20\n",
            "Jumlah gambar di test/w: 20\n",
            "Jumlah gambar di test/x: 20\n",
            "Jumlah gambar di test/y: 20\n"
          ]
        }
      ]
    },
    {
      "cell_type": "markdown",
      "source": [
        "Suggested Changes\n",
        "\n",
        "1.   Restart Runtime Environment: Restart your runtime environment. This step often clears any temporary cache issues. In Colab, you can do this by going to \"Runtime\" -> \"Restart runtime.\"\n",
        "2.   Reinstall MediaPipe: Ensure you have the latest MediaPipe version installed. If that does not resolve the issue, try the following changes."
      ],
      "metadata": {
        "id": "U8JGYDUSmp5i"
      }
    },
    {
      "cell_type": "markdown",
      "source": [
        "## Uninstall MediaPipe dan Bersihkan Instalasi Lama"
      ],
      "metadata": {
        "id": "UkFHxJ8uEoRo"
      }
    },
    {
      "cell_type": "code",
      "source": [
        "!pip uninstall -y mediapipe\n",
        "!rm -rf /usr/local/lib/python3.11/dist-packages/mediapipe*"
      ],
      "metadata": {
        "colab": {
          "base_uri": "https://localhost:8080/"
        },
        "id": "-Qw1WwJ2mplX",
        "outputId": "70024575-200b-477c-a3b0-a5c96e766142"
      },
      "execution_count": null,
      "outputs": [
        {
          "output_type": "stream",
          "name": "stdout",
          "text": [
            "Found existing installation: mediapipe 0.10.21\n",
            "Uninstalling mediapipe-0.10.21:\n",
            "  Successfully uninstalled mediapipe-0.10.21\n"
          ]
        }
      ]
    },
    {
      "cell_type": "markdown",
      "source": [
        "## Instal Ulang MediaPipe Versi Stabil"
      ],
      "metadata": {
        "id": "a-MIqaSKE2_t"
      }
    },
    {
      "cell_type": "code",
      "source": [
        "!pip install --no-cache-dir mediapipe==0.10.9\n"
      ],
      "metadata": {
        "colab": {
          "base_uri": "https://localhost:8080/",
          "height": 738
        },
        "id": "h0ozPfXdCHEh",
        "outputId": "a86380b8-69c3-47b0-f2af-0b31d382ea42"
      },
      "execution_count": null,
      "outputs": [
        {
          "output_type": "stream",
          "name": "stdout",
          "text": [
            "Collecting mediapipe==0.10.9\n",
            "  Downloading mediapipe-0.10.9-cp311-cp311-manylinux_2_17_x86_64.manylinux2014_x86_64.whl.metadata (9.6 kB)\n",
            "Requirement already satisfied: absl-py in /usr/local/lib/python3.11/dist-packages (from mediapipe==0.10.9) (1.4.0)\n",
            "Requirement already satisfied: attrs>=19.1.0 in /usr/local/lib/python3.11/dist-packages (from mediapipe==0.10.9) (25.3.0)\n",
            "Requirement already satisfied: flatbuffers>=2.0 in /usr/local/lib/python3.11/dist-packages (from mediapipe==0.10.9) (25.2.10)\n",
            "Requirement already satisfied: matplotlib in /usr/local/lib/python3.11/dist-packages (from mediapipe==0.10.9) (3.10.0)\n",
            "Requirement already satisfied: numpy in /usr/local/lib/python3.11/dist-packages (from mediapipe==0.10.9) (1.26.4)\n",
            "Requirement already satisfied: opencv-contrib-python in /usr/local/lib/python3.11/dist-packages (from mediapipe==0.10.9) (4.11.0.86)\n",
            "Collecting protobuf<4,>=3.11 (from mediapipe==0.10.9)\n",
            "  Downloading protobuf-3.20.3-py2.py3-none-any.whl.metadata (720 bytes)\n",
            "Requirement already satisfied: sounddevice>=0.4.4 in /usr/local/lib/python3.11/dist-packages (from mediapipe==0.10.9) (0.5.2)\n",
            "Requirement already satisfied: CFFI>=1.0 in /usr/local/lib/python3.11/dist-packages (from sounddevice>=0.4.4->mediapipe==0.10.9) (1.17.1)\n",
            "Requirement already satisfied: contourpy>=1.0.1 in /usr/local/lib/python3.11/dist-packages (from matplotlib->mediapipe==0.10.9) (1.3.2)\n",
            "Requirement already satisfied: cycler>=0.10 in /usr/local/lib/python3.11/dist-packages (from matplotlib->mediapipe==0.10.9) (0.12.1)\n",
            "Requirement already satisfied: fonttools>=4.22.0 in /usr/local/lib/python3.11/dist-packages (from matplotlib->mediapipe==0.10.9) (4.58.0)\n",
            "Requirement already satisfied: kiwisolver>=1.3.1 in /usr/local/lib/python3.11/dist-packages (from matplotlib->mediapipe==0.10.9) (1.4.8)\n",
            "Requirement already satisfied: packaging>=20.0 in /usr/local/lib/python3.11/dist-packages (from matplotlib->mediapipe==0.10.9) (24.2)\n",
            "Requirement already satisfied: pillow>=8 in /usr/local/lib/python3.11/dist-packages (from matplotlib->mediapipe==0.10.9) (11.2.1)\n",
            "Requirement already satisfied: pyparsing>=2.3.1 in /usr/local/lib/python3.11/dist-packages (from matplotlib->mediapipe==0.10.9) (3.2.3)\n",
            "Requirement already satisfied: python-dateutil>=2.7 in /usr/local/lib/python3.11/dist-packages (from matplotlib->mediapipe==0.10.9) (2.9.0.post0)\n",
            "Requirement already satisfied: pycparser in /usr/local/lib/python3.11/dist-packages (from CFFI>=1.0->sounddevice>=0.4.4->mediapipe==0.10.9) (2.22)\n",
            "Requirement already satisfied: six>=1.5 in /usr/local/lib/python3.11/dist-packages (from python-dateutil>=2.7->matplotlib->mediapipe==0.10.9) (1.17.0)\n",
            "Downloading mediapipe-0.10.9-cp311-cp311-manylinux_2_17_x86_64.manylinux2014_x86_64.whl (34.5 MB)\n",
            "\u001b[2K   \u001b[90m━━━━━━━━━━━━━━━━━━━━━━━━━━━━━━━━━━━━━━━━\u001b[0m \u001b[32m34.5/34.5 MB\u001b[0m \u001b[31m116.3 MB/s\u001b[0m eta \u001b[36m0:00:00\u001b[0m\n",
            "\u001b[?25hDownloading protobuf-3.20.3-py2.py3-none-any.whl (162 kB)\n",
            "\u001b[2K   \u001b[90m━━━━━━━━━━━━━━━━━━━━━━━━━━━━━━━━━━━━━━━\u001b[0m \u001b[32m162.1/162.1 kB\u001b[0m \u001b[31m175.2 MB/s\u001b[0m eta \u001b[36m0:00:00\u001b[0m\n",
            "\u001b[?25hInstalling collected packages: protobuf, mediapipe\n",
            "  Attempting uninstall: protobuf\n",
            "    Found existing installation: protobuf 4.25.7\n",
            "    Uninstalling protobuf-4.25.7:\n",
            "      Successfully uninstalled protobuf-4.25.7\n",
            "\u001b[31mERROR: pip's dependency resolver does not currently take into account all the packages that are installed. This behaviour is the source of the following dependency conflicts.\n",
            "tensorflow-metadata 1.17.1 requires protobuf<6.0.0,>=4.25.2; python_version >= \"3.11\", but you have protobuf 3.20.3 which is incompatible.\n",
            "ydf 0.11.0 requires protobuf<6.0.0,>=5.29.1, but you have protobuf 3.20.3 which is incompatible.\n",
            "grpcio-status 1.71.0 requires protobuf<6.0dev,>=5.26.1, but you have protobuf 3.20.3 which is incompatible.\u001b[0m\u001b[31m\n",
            "\u001b[0mSuccessfully installed mediapipe-0.10.9 protobuf-3.20.3\n"
          ]
        },
        {
          "output_type": "display_data",
          "data": {
            "application/vnd.colab-display-data+json": {
              "pip_warning": {
                "packages": [
                  "google"
                ]
              },
              "id": "021f17d92ca24b6c9a80dafacc07003b"
            }
          },
          "metadata": {}
        }
      ]
    },
    {
      "cell_type": "markdown",
      "source": [
        "## Restart Kernel\n",
        "Sebelum menjalankan kode selanjutnya, restart runtime Google Colab:\n",
        "➡ Klik \"Runtime\" > \"Restart runtime\""
      ],
      "metadata": {
        "id": "giAuvFeqFFdV"
      }
    },
    {
      "cell_type": "markdown",
      "source": [
        "## Setelah restart, jalankan kode berikut untuk memastikan MediaPipe berfungsi"
      ],
      "metadata": {
        "id": "_9K1dLGoEeHX"
      }
    },
    {
      "cell_type": "markdown",
      "source": [
        "Verify MediaPipe Installation:\n",
        "\n",
        "\n",
        "*   After installation, try running a simple MediaPipe script to verify that it's working correctly.\n",
        "*   Try running this code:"
      ],
      "metadata": {
        "id": "oxwBE14wA2PE"
      }
    },
    {
      "cell_type": "code",
      "source": [
        "import mediapipe as mp\n",
        "print(mp.__version__)"
      ],
      "metadata": {
        "colab": {
          "base_uri": "https://localhost:8080/"
        },
        "id": "AVQQXs7uBBDp",
        "outputId": "41377752-1265-441a-bdf2-fe52882a923a"
      },
      "execution_count": null,
      "outputs": [
        {
          "output_type": "stream",
          "name": "stdout",
          "text": [
            "0.10.9\n"
          ]
        }
      ]
    },
    {
      "cell_type": "code",
      "execution_count": null,
      "metadata": {
        "colab": {
          "base_uri": "https://localhost:8080/"
        },
        "id": "Qin81EJpaXT-",
        "outputId": "6eceba7a-8be5-498f-cf5c-8ccd87f39b1c"
      },
      "outputs": [
        {
          "output_type": "stream",
          "name": "stdout",
          "text": [
            "Processing training data...\n",
            "Processing folder: tiga\n",
            "Processing folder: tujuh\n",
            "Processing folder: enam\n",
            "Processing folder: sepuluh\n",
            "Processing folder: empat\n",
            "Processing folder: satu\n",
            "Processing folder: lima\n",
            "Processing folder: delapan\n",
            "Processing folder: dua\n",
            "Processing folder: sembilan\n",
            "Processing folder: a\n",
            "Processing folder: b\n",
            "Processing folder: c\n",
            "Processing folder: d\n",
            "Processing folder: e\n",
            "Processing folder: f\n",
            "Processing folder: g\n",
            "Processing folder: h\n",
            "Processing folder: i\n",
            "Processing folder: k\n",
            "Processing folder: l\n",
            "Processing folder: m\n",
            "Processing folder: n\n",
            "Processing folder: o\n",
            "Processing folder: p\n",
            "Processing folder: q\n",
            "Processing folder: r\n",
            "Processing folder: s\n",
            "Processing folder: t\n",
            "Processing folder: u\n",
            "Processing folder: v\n",
            "Processing folder: w\n",
            "Processing folder: x\n",
            "Processing folder: y\n",
            "Processing validation data...\n",
            "Processing folder: lima\n",
            "Processing folder: enam\n",
            "Processing folder: sembilan\n",
            "Processing folder: dua\n",
            "Processing folder: sepuluh\n",
            "Processing folder: satu\n",
            "Processing folder: delapan\n",
            "Processing folder: tiga\n",
            "Processing folder: tujuh\n",
            "Processing folder: empat\n",
            "Processing folder: a\n",
            "Processing folder: b\n",
            "Processing folder: c\n",
            "Processing folder: d\n",
            "Processing folder: e\n",
            "Processing folder: f\n",
            "Processing folder: g\n",
            "Processing folder: h\n",
            "Processing folder: i\n",
            "Processing folder: k\n",
            "Processing folder: l\n",
            "Processing folder: m\n",
            "Processing folder: n\n",
            "Processing folder: o\n",
            "Processing folder: p\n",
            "Processing folder: q\n",
            "Processing folder: r\n",
            "Processing folder: s\n",
            "Processing folder: t\n",
            "Processing folder: u\n",
            "Processing folder: v\n",
            "Processing folder: w\n",
            "Processing folder: x\n",
            "Processing folder: y\n",
            "Processing test data...\n",
            "Processing folder: delapan\n",
            "Processing folder: enam\n",
            "Processing folder: tiga\n",
            "Processing folder: satu\n",
            "Processing folder: tujuh\n",
            "Processing folder: sembilan\n",
            "Processing folder: lima\n",
            "Processing folder: empat\n",
            "Processing folder: sepuluh\n",
            "Processing folder: dua\n",
            "Processing folder: a\n",
            "Processing folder: b\n",
            "Processing folder: c\n",
            "Processing folder: d\n",
            "Processing folder: e\n",
            "Processing folder: f\n",
            "Processing folder: g\n",
            "Processing folder: h\n",
            "Processing folder: i\n",
            "Processing folder: k\n",
            "Processing folder: l\n",
            "Processing folder: m\n",
            "Processing folder: n\n",
            "Processing folder: o\n",
            "Processing folder: p\n",
            "Processing folder: q\n",
            "Processing folder: r\n",
            "Processing folder: s\n",
            "Processing folder: t\n",
            "Processing folder: u\n",
            "Processing folder: v\n",
            "Processing folder: w\n",
            "Processing folder: x\n",
            "Processing folder: y\n",
            "\n",
            "Dataset Summary:\n",
            "Training samples: 4362\n",
            "Validation samples: 646\n",
            "Test samples: 635\n",
            "\n",
            "Failed extractions:\n",
            "Training: 1078\n",
            "Validation: 34\n",
            "Test: 45\n"
          ]
        }
      ],
      "source": [
        "import cv2\n",
        "import mediapipe as mp\n",
        "import numpy as np\n",
        "import os\n",
        "\n",
        "# Inisialisasi MediaPipe Hands\n",
        "mp_hands = mp.solutions.hands\n",
        "hands = mp_hands.Hands(static_image_mode=True, max_num_hands=1, min_detection_confidence=0.5)\n",
        "\n",
        "# Mapping label ke angka\n",
        "label_mapping = {\n",
        "    \"satu\": 0,\n",
        "    \"dua\": 1,\n",
        "    \"tiga\": 2,\n",
        "    \"empat\": 3,\n",
        "    \"lima\": 4,\n",
        "    \"enam\": 5,\n",
        "    \"tujuh\": 6,\n",
        "    \"delapan\": 7,\n",
        "    \"sembilan\": 8,\n",
        "    \"sepuluh\": 9,\n",
        "    \"a\": 10,\n",
        "    \"b\":11,\n",
        "    \"c\":12,\n",
        "    \"d\":13,\n",
        "    \"e\":14,\n",
        "    \"f\":15,\n",
        "    \"g\":16,\n",
        "    \"h\":17,\n",
        "    \"i\":18,\n",
        "    \"k\":19,\n",
        "    \"l\":20,\n",
        "    \"m\":21,\n",
        "    \"n\":22,\n",
        "    \"o\":23,\n",
        "    \"p\":24,\n",
        "    \"q\":25,\n",
        "    \"r\":26,\n",
        "    \"s\":27,\n",
        "    \"t\":28,\n",
        "    \"u\":29,\n",
        "    \"v\":30,\n",
        "    \"w\":31,\n",
        "    \"x\":32,\n",
        "    \"y\":33\n",
        "}\n",
        "\n",
        "def extract_landmarks(image_path):\n",
        "    \"\"\"\n",
        "    Mengekstrak landmark dari gambar menggunakan MediaPipe\n",
        "    \"\"\"\n",
        "    image = cv2.imread(image_path)\n",
        "    if image is None:\n",
        "        print(f\"Error loading image: {image_path}\")\n",
        "        return None\n",
        "\n",
        "    image_rgb = cv2.cvtColor(image, cv2.COLOR_BGR2RGB)\n",
        "    result = hands.process(image_rgb)\n",
        "\n",
        "    if result.multi_hand_landmarks:\n",
        "        landmarks = result.multi_hand_landmarks[0]\n",
        "        return np.array([[lm.x, lm.y, lm.z] for lm in landmarks.landmark]).flatten()\n",
        "    return None\n",
        "\n",
        "def process_dataset(dataset_path):\n",
        "    \"\"\"\n",
        "    Memproses dataset dan mengekstrak landmark\n",
        "    \"\"\"\n",
        "    landmarks = []\n",
        "    labels = []\n",
        "    failed_images = []\n",
        "\n",
        "    for folder_name in os.listdir(dataset_path):\n",
        "        label = label_mapping.get(folder_name.lower())\n",
        "        if label is None:\n",
        "            continue\n",
        "\n",
        "        folder_path = os.path.join(dataset_path, folder_name)\n",
        "        print(f\"Processing folder: {folder_name}\")\n",
        "\n",
        "        for filename in os.listdir(folder_path):\n",
        "            image_path = os.path.join(folder_path, filename)\n",
        "            landmark = extract_landmarks(image_path)\n",
        "\n",
        "            if landmark is not None:\n",
        "                landmarks.append(landmark)\n",
        "                labels.append(label)\n",
        "            else:\n",
        "                failed_images.append(image_path)\n",
        "\n",
        "    return np.array(landmarks), np.array(labels), failed_images\n",
        "\n",
        "# Proses semua dataset\n",
        "print(\"Processing training data...\")\n",
        "train_landmarks, train_labels, train_failed = process_dataset(\"/content/drive/MyDrive/Dataset/train\")\n",
        "\n",
        "print(\"Processing validation data...\")\n",
        "val_landmarks, val_labels, val_failed = process_dataset(\"/content/drive/MyDrive/Dataset/validasi\")\n",
        "\n",
        "print(\"Processing test data...\")\n",
        "test_landmarks, test_labels, test_failed = process_dataset(\"/content/drive/MyDrive/Dataset/test\")\n",
        "\n",
        "# Simpan hasil ekstraksi\n",
        "np.save(\"train_landmarks.npy\", train_landmarks)\n",
        "np.save(\"train_labels.npy\", train_labels)\n",
        "np.save(\"val_landmarks.npy\", val_landmarks)\n",
        "np.save(\"val_labels.npy\", val_labels)\n",
        "np.save(\"test_landmarks.npy\", test_landmarks)\n",
        "np.save(\"test_labels.npy\", test_labels)\n",
        "\n",
        "# Print summary\n",
        "print(\"\\nDataset Summary:\")\n",
        "print(f\"Training samples: {len(train_landmarks)}\")\n",
        "print(f\"Validation samples: {len(val_landmarks)}\")\n",
        "print(f\"Test samples: {len(test_landmarks)}\")\n",
        "print(f\"\\nFailed extractions:\")\n",
        "print(f\"Training: {len(train_failed)}\")\n",
        "print(f\"Validation: {len(val_failed)}\")\n",
        "print(f\"Test: {len(test_failed)}\")\n",
        "\n",
        "hands.close()"
      ]
    },
    {
      "cell_type": "code",
      "execution_count": null,
      "metadata": {
        "colab": {
          "base_uri": "https://localhost:8080/",
          "height": 1000
        },
        "id": "iSEES193m8_I",
        "outputId": "aefd3256-330b-49ed-dce6-1f9bdc4e9293"
      },
      "outputs": [
        {
          "output_type": "stream",
          "name": "stderr",
          "text": [
            "/usr/local/lib/python3.11/dist-packages/keras/src/layers/convolutional/base_conv.py:107: UserWarning: Do not pass an `input_shape`/`input_dim` argument to a layer. When using Sequential models, prefer using an `Input(shape)` object as the first layer in the model instead.\n",
            "  super().__init__(activity_regularizer=activity_regularizer, **kwargs)\n"
          ]
        },
        {
          "output_type": "display_data",
          "data": {
            "text/plain": [
              "\u001b[1mModel: \"sequential\"\u001b[0m\n"
            ],
            "text/html": [
              "<pre style=\"white-space:pre;overflow-x:auto;line-height:normal;font-family:Menlo,'DejaVu Sans Mono',consolas,'Courier New',monospace\"><span style=\"font-weight: bold\">Model: \"sequential\"</span>\n",
              "</pre>\n"
            ]
          },
          "metadata": {}
        },
        {
          "output_type": "display_data",
          "data": {
            "text/plain": [
              "┏━━━━━━━━━━━━━━━━━━━━━━━━━━━━━━━━━┳━━━━━━━━━━━━━━━━━━━━━━━━┳━━━━━━━━━━━━━━━┓\n",
              "┃\u001b[1m \u001b[0m\u001b[1mLayer (type)                   \u001b[0m\u001b[1m \u001b[0m┃\u001b[1m \u001b[0m\u001b[1mOutput Shape          \u001b[0m\u001b[1m \u001b[0m┃\u001b[1m \u001b[0m\u001b[1m      Param #\u001b[0m\u001b[1m \u001b[0m┃\n",
              "┡━━━━━━━━━━━━━━━━━━━━━━━━━━━━━━━━━╇━━━━━━━━━━━━━━━━━━━━━━━━╇━━━━━━━━━━━━━━━┩\n",
              "│ conv1d (\u001b[38;5;33mConv1D\u001b[0m)                 │ (\u001b[38;5;45mNone\u001b[0m, \u001b[38;5;34m61\u001b[0m, \u001b[38;5;34m32\u001b[0m)         │           \u001b[38;5;34m128\u001b[0m │\n",
              "├─────────────────────────────────┼────────────────────────┼───────────────┤\n",
              "│ max_pooling1d (\u001b[38;5;33mMaxPooling1D\u001b[0m)    │ (\u001b[38;5;45mNone\u001b[0m, \u001b[38;5;34m30\u001b[0m, \u001b[38;5;34m32\u001b[0m)         │             \u001b[38;5;34m0\u001b[0m │\n",
              "├─────────────────────────────────┼────────────────────────┼───────────────┤\n",
              "│ conv1d_1 (\u001b[38;5;33mConv1D\u001b[0m)               │ (\u001b[38;5;45mNone\u001b[0m, \u001b[38;5;34m28\u001b[0m, \u001b[38;5;34m64\u001b[0m)         │         \u001b[38;5;34m6,208\u001b[0m │\n",
              "├─────────────────────────────────┼────────────────────────┼───────────────┤\n",
              "│ max_pooling1d_1 (\u001b[38;5;33mMaxPooling1D\u001b[0m)  │ (\u001b[38;5;45mNone\u001b[0m, \u001b[38;5;34m14\u001b[0m, \u001b[38;5;34m64\u001b[0m)         │             \u001b[38;5;34m0\u001b[0m │\n",
              "├─────────────────────────────────┼────────────────────────┼───────────────┤\n",
              "│ flatten (\u001b[38;5;33mFlatten\u001b[0m)               │ (\u001b[38;5;45mNone\u001b[0m, \u001b[38;5;34m896\u001b[0m)            │             \u001b[38;5;34m0\u001b[0m │\n",
              "├─────────────────────────────────┼────────────────────────┼───────────────┤\n",
              "│ dense (\u001b[38;5;33mDense\u001b[0m)                   │ (\u001b[38;5;45mNone\u001b[0m, \u001b[38;5;34m128\u001b[0m)            │       \u001b[38;5;34m114,816\u001b[0m │\n",
              "├─────────────────────────────────┼────────────────────────┼───────────────┤\n",
              "│ dropout (\u001b[38;5;33mDropout\u001b[0m)               │ (\u001b[38;5;45mNone\u001b[0m, \u001b[38;5;34m128\u001b[0m)            │             \u001b[38;5;34m0\u001b[0m │\n",
              "├─────────────────────────────────┼────────────────────────┼───────────────┤\n",
              "│ dense_1 (\u001b[38;5;33mDense\u001b[0m)                 │ (\u001b[38;5;45mNone\u001b[0m, \u001b[38;5;34m64\u001b[0m)             │         \u001b[38;5;34m8,256\u001b[0m │\n",
              "├─────────────────────────────────┼────────────────────────┼───────────────┤\n",
              "│ dropout_1 (\u001b[38;5;33mDropout\u001b[0m)             │ (\u001b[38;5;45mNone\u001b[0m, \u001b[38;5;34m64\u001b[0m)             │             \u001b[38;5;34m0\u001b[0m │\n",
              "├─────────────────────────────────┼────────────────────────┼───────────────┤\n",
              "│ dense_2 (\u001b[38;5;33mDense\u001b[0m)                 │ (\u001b[38;5;45mNone\u001b[0m, \u001b[38;5;34m34\u001b[0m)             │         \u001b[38;5;34m2,210\u001b[0m │\n",
              "└─────────────────────────────────┴────────────────────────┴───────────────┘\n"
            ],
            "text/html": [
              "<pre style=\"white-space:pre;overflow-x:auto;line-height:normal;font-family:Menlo,'DejaVu Sans Mono',consolas,'Courier New',monospace\">┏━━━━━━━━━━━━━━━━━━━━━━━━━━━━━━━━━┳━━━━━━━━━━━━━━━━━━━━━━━━┳━━━━━━━━━━━━━━━┓\n",
              "┃<span style=\"font-weight: bold\"> Layer (type)                    </span>┃<span style=\"font-weight: bold\"> Output Shape           </span>┃<span style=\"font-weight: bold\">       Param # </span>┃\n",
              "┡━━━━━━━━━━━━━━━━━━━━━━━━━━━━━━━━━╇━━━━━━━━━━━━━━━━━━━━━━━━╇━━━━━━━━━━━━━━━┩\n",
              "│ conv1d (<span style=\"color: #0087ff; text-decoration-color: #0087ff\">Conv1D</span>)                 │ (<span style=\"color: #00d7ff; text-decoration-color: #00d7ff\">None</span>, <span style=\"color: #00af00; text-decoration-color: #00af00\">61</span>, <span style=\"color: #00af00; text-decoration-color: #00af00\">32</span>)         │           <span style=\"color: #00af00; text-decoration-color: #00af00\">128</span> │\n",
              "├─────────────────────────────────┼────────────────────────┼───────────────┤\n",
              "│ max_pooling1d (<span style=\"color: #0087ff; text-decoration-color: #0087ff\">MaxPooling1D</span>)    │ (<span style=\"color: #00d7ff; text-decoration-color: #00d7ff\">None</span>, <span style=\"color: #00af00; text-decoration-color: #00af00\">30</span>, <span style=\"color: #00af00; text-decoration-color: #00af00\">32</span>)         │             <span style=\"color: #00af00; text-decoration-color: #00af00\">0</span> │\n",
              "├─────────────────────────────────┼────────────────────────┼───────────────┤\n",
              "│ conv1d_1 (<span style=\"color: #0087ff; text-decoration-color: #0087ff\">Conv1D</span>)               │ (<span style=\"color: #00d7ff; text-decoration-color: #00d7ff\">None</span>, <span style=\"color: #00af00; text-decoration-color: #00af00\">28</span>, <span style=\"color: #00af00; text-decoration-color: #00af00\">64</span>)         │         <span style=\"color: #00af00; text-decoration-color: #00af00\">6,208</span> │\n",
              "├─────────────────────────────────┼────────────────────────┼───────────────┤\n",
              "│ max_pooling1d_1 (<span style=\"color: #0087ff; text-decoration-color: #0087ff\">MaxPooling1D</span>)  │ (<span style=\"color: #00d7ff; text-decoration-color: #00d7ff\">None</span>, <span style=\"color: #00af00; text-decoration-color: #00af00\">14</span>, <span style=\"color: #00af00; text-decoration-color: #00af00\">64</span>)         │             <span style=\"color: #00af00; text-decoration-color: #00af00\">0</span> │\n",
              "├─────────────────────────────────┼────────────────────────┼───────────────┤\n",
              "│ flatten (<span style=\"color: #0087ff; text-decoration-color: #0087ff\">Flatten</span>)               │ (<span style=\"color: #00d7ff; text-decoration-color: #00d7ff\">None</span>, <span style=\"color: #00af00; text-decoration-color: #00af00\">896</span>)            │             <span style=\"color: #00af00; text-decoration-color: #00af00\">0</span> │\n",
              "├─────────────────────────────────┼────────────────────────┼───────────────┤\n",
              "│ dense (<span style=\"color: #0087ff; text-decoration-color: #0087ff\">Dense</span>)                   │ (<span style=\"color: #00d7ff; text-decoration-color: #00d7ff\">None</span>, <span style=\"color: #00af00; text-decoration-color: #00af00\">128</span>)            │       <span style=\"color: #00af00; text-decoration-color: #00af00\">114,816</span> │\n",
              "├─────────────────────────────────┼────────────────────────┼───────────────┤\n",
              "│ dropout (<span style=\"color: #0087ff; text-decoration-color: #0087ff\">Dropout</span>)               │ (<span style=\"color: #00d7ff; text-decoration-color: #00d7ff\">None</span>, <span style=\"color: #00af00; text-decoration-color: #00af00\">128</span>)            │             <span style=\"color: #00af00; text-decoration-color: #00af00\">0</span> │\n",
              "├─────────────────────────────────┼────────────────────────┼───────────────┤\n",
              "│ dense_1 (<span style=\"color: #0087ff; text-decoration-color: #0087ff\">Dense</span>)                 │ (<span style=\"color: #00d7ff; text-decoration-color: #00d7ff\">None</span>, <span style=\"color: #00af00; text-decoration-color: #00af00\">64</span>)             │         <span style=\"color: #00af00; text-decoration-color: #00af00\">8,256</span> │\n",
              "├─────────────────────────────────┼────────────────────────┼───────────────┤\n",
              "│ dropout_1 (<span style=\"color: #0087ff; text-decoration-color: #0087ff\">Dropout</span>)             │ (<span style=\"color: #00d7ff; text-decoration-color: #00d7ff\">None</span>, <span style=\"color: #00af00; text-decoration-color: #00af00\">64</span>)             │             <span style=\"color: #00af00; text-decoration-color: #00af00\">0</span> │\n",
              "├─────────────────────────────────┼────────────────────────┼───────────────┤\n",
              "│ dense_2 (<span style=\"color: #0087ff; text-decoration-color: #0087ff\">Dense</span>)                 │ (<span style=\"color: #00d7ff; text-decoration-color: #00d7ff\">None</span>, <span style=\"color: #00af00; text-decoration-color: #00af00\">34</span>)             │         <span style=\"color: #00af00; text-decoration-color: #00af00\">2,210</span> │\n",
              "└─────────────────────────────────┴────────────────────────┴───────────────┘\n",
              "</pre>\n"
            ]
          },
          "metadata": {}
        },
        {
          "output_type": "display_data",
          "data": {
            "text/plain": [
              "\u001b[1m Total params: \u001b[0m\u001b[38;5;34m131,618\u001b[0m (514.13 KB)\n"
            ],
            "text/html": [
              "<pre style=\"white-space:pre;overflow-x:auto;line-height:normal;font-family:Menlo,'DejaVu Sans Mono',consolas,'Courier New',monospace\"><span style=\"font-weight: bold\"> Total params: </span><span style=\"color: #00af00; text-decoration-color: #00af00\">131,618</span> (514.13 KB)\n",
              "</pre>\n"
            ]
          },
          "metadata": {}
        },
        {
          "output_type": "display_data",
          "data": {
            "text/plain": [
              "\u001b[1m Trainable params: \u001b[0m\u001b[38;5;34m131,618\u001b[0m (514.13 KB)\n"
            ],
            "text/html": [
              "<pre style=\"white-space:pre;overflow-x:auto;line-height:normal;font-family:Menlo,'DejaVu Sans Mono',consolas,'Courier New',monospace\"><span style=\"font-weight: bold\"> Trainable params: </span><span style=\"color: #00af00; text-decoration-color: #00af00\">131,618</span> (514.13 KB)\n",
              "</pre>\n"
            ]
          },
          "metadata": {}
        },
        {
          "output_type": "display_data",
          "data": {
            "text/plain": [
              "\u001b[1m Non-trainable params: \u001b[0m\u001b[38;5;34m0\u001b[0m (0.00 B)\n"
            ],
            "text/html": [
              "<pre style=\"white-space:pre;overflow-x:auto;line-height:normal;font-family:Menlo,'DejaVu Sans Mono',consolas,'Courier New',monospace\"><span style=\"font-weight: bold\"> Non-trainable params: </span><span style=\"color: #00af00; text-decoration-color: #00af00\">0</span> (0.00 B)\n",
              "</pre>\n"
            ]
          },
          "metadata": {}
        },
        {
          "output_type": "stream",
          "name": "stdout",
          "text": [
            "None\n",
            "Epoch 1/100\n",
            "\u001b[1m273/273\u001b[0m \u001b[32m━━━━━━━━━━━━━━━━━━━━\u001b[0m\u001b[37m\u001b[0m \u001b[1m6s\u001b[0m 8ms/step - accuracy: 0.0776 - loss: 3.3381 - val_accuracy: 0.3870 - val_loss: 2.0221 - learning_rate: 0.0010\n",
            "Epoch 2/100\n",
            "\u001b[1m273/273\u001b[0m \u001b[32m━━━━━━━━━━━━━━━━━━━━\u001b[0m\u001b[37m\u001b[0m \u001b[1m2s\u001b[0m 7ms/step - accuracy: 0.4594 - loss: 1.6154 - val_accuracy: 0.6022 - val_loss: 1.2924 - learning_rate: 0.0010\n",
            "Epoch 3/100\n",
            "\u001b[1m273/273\u001b[0m \u001b[32m━━━━━━━━━━━━━━━━━━━━\u001b[0m\u001b[37m\u001b[0m \u001b[1m2s\u001b[0m 7ms/step - accuracy: 0.6518 - loss: 0.9931 - val_accuracy: 0.6440 - val_loss: 1.0155 - learning_rate: 0.0010\n",
            "Epoch 4/100\n",
            "\u001b[1m273/273\u001b[0m \u001b[32m━━━━━━━━━━━━━━━━━━━━\u001b[0m\u001b[37m\u001b[0m \u001b[1m4s\u001b[0m 11ms/step - accuracy: 0.7440 - loss: 0.7171 - val_accuracy: 0.6610 - val_loss: 0.9215 - learning_rate: 0.0010\n",
            "Epoch 5/100\n",
            "\u001b[1m273/273\u001b[0m \u001b[32m━━━━━━━━━━━━━━━━━━━━\u001b[0m\u001b[37m\u001b[0m \u001b[1m4s\u001b[0m 7ms/step - accuracy: 0.7911 - loss: 0.6127 - val_accuracy: 0.6641 - val_loss: 0.9477 - learning_rate: 0.0010\n",
            "Epoch 6/100\n",
            "\u001b[1m273/273\u001b[0m \u001b[32m━━━━━━━━━━━━━━━━━━━━\u001b[0m\u001b[37m\u001b[0m \u001b[1m2s\u001b[0m 7ms/step - accuracy: 0.8351 - loss: 0.4847 - val_accuracy: 0.6981 - val_loss: 0.8009 - learning_rate: 0.0010\n",
            "Epoch 7/100\n",
            "\u001b[1m273/273\u001b[0m \u001b[32m━━━━━━━━━━━━━━━━━━━━\u001b[0m\u001b[37m\u001b[0m \u001b[1m2s\u001b[0m 7ms/step - accuracy: 0.8526 - loss: 0.4457 - val_accuracy: 0.7229 - val_loss: 0.7065 - learning_rate: 0.0010\n",
            "Epoch 8/100\n",
            "\u001b[1m273/273\u001b[0m \u001b[32m━━━━━━━━━━━━━━━━━━━━\u001b[0m\u001b[37m\u001b[0m \u001b[1m3s\u001b[0m 7ms/step - accuracy: 0.8652 - loss: 0.4015 - val_accuracy: 0.7508 - val_loss: 0.6557 - learning_rate: 0.0010\n",
            "Epoch 9/100\n",
            "\u001b[1m273/273\u001b[0m \u001b[32m━━━━━━━━━━━━━━━━━━━━\u001b[0m\u001b[37m\u001b[0m \u001b[1m4s\u001b[0m 11ms/step - accuracy: 0.8667 - loss: 0.3563 - val_accuracy: 0.7276 - val_loss: 0.7025 - learning_rate: 0.0010\n",
            "Epoch 10/100\n",
            "\u001b[1m273/273\u001b[0m \u001b[32m━━━━━━━━━━━━━━━━━━━━\u001b[0m\u001b[37m\u001b[0m \u001b[1m4s\u001b[0m 7ms/step - accuracy: 0.8708 - loss: 0.3490 - val_accuracy: 0.7570 - val_loss: 0.7347 - learning_rate: 0.0010\n",
            "Epoch 11/100\n",
            "\u001b[1m273/273\u001b[0m \u001b[32m━━━━━━━━━━━━━━━━━━━━\u001b[0m\u001b[37m\u001b[0m \u001b[1m3s\u001b[0m 7ms/step - accuracy: 0.8843 - loss: 0.3283 - val_accuracy: 0.7446 - val_loss: 0.6793 - learning_rate: 0.0010\n",
            "Epoch 12/100\n",
            "\u001b[1m273/273\u001b[0m \u001b[32m━━━━━━━━━━━━━━━━━━━━\u001b[0m\u001b[37m\u001b[0m \u001b[1m2s\u001b[0m 7ms/step - accuracy: 0.8887 - loss: 0.3050 - val_accuracy: 0.7740 - val_loss: 0.6162 - learning_rate: 0.0010\n",
            "Epoch 13/100\n",
            "\u001b[1m273/273\u001b[0m \u001b[32m━━━━━━━━━━━━━━━━━━━━\u001b[0m\u001b[37m\u001b[0m \u001b[1m3s\u001b[0m 8ms/step - accuracy: 0.8916 - loss: 0.3082 - val_accuracy: 0.7554 - val_loss: 0.6386 - learning_rate: 0.0010\n",
            "Epoch 14/100\n",
            "\u001b[1m273/273\u001b[0m \u001b[32m━━━━━━━━━━━━━━━━━━━━\u001b[0m\u001b[37m\u001b[0m \u001b[1m3s\u001b[0m 11ms/step - accuracy: 0.9078 - loss: 0.2644 - val_accuracy: 0.7430 - val_loss: 0.7164 - learning_rate: 0.0010\n",
            "Epoch 15/100\n",
            "\u001b[1m273/273\u001b[0m \u001b[32m━━━━━━━━━━━━━━━━━━━━\u001b[0m\u001b[37m\u001b[0m \u001b[1m2s\u001b[0m 7ms/step - accuracy: 0.8959 - loss: 0.2808 - val_accuracy: 0.7864 - val_loss: 0.6164 - learning_rate: 0.0010\n",
            "Epoch 16/100\n",
            "\u001b[1m273/273\u001b[0m \u001b[32m━━━━━━━━━━━━━━━━━━━━\u001b[0m\u001b[37m\u001b[0m \u001b[1m2s\u001b[0m 7ms/step - accuracy: 0.9051 - loss: 0.2591 - val_accuracy: 0.7585 - val_loss: 0.6762 - learning_rate: 0.0010\n",
            "Epoch 17/100\n",
            "\u001b[1m273/273\u001b[0m \u001b[32m━━━━━━━━━━━━━━━━━━━━\u001b[0m\u001b[37m\u001b[0m \u001b[1m3s\u001b[0m 7ms/step - accuracy: 0.9203 - loss: 0.2355 - val_accuracy: 0.7632 - val_loss: 0.6211 - learning_rate: 0.0010\n",
            "Epoch 18/100\n",
            "\u001b[1m273/273\u001b[0m \u001b[32m━━━━━━━━━━━━━━━━━━━━\u001b[0m\u001b[37m\u001b[0m \u001b[1m2s\u001b[0m 7ms/step - accuracy: 0.9240 - loss: 0.2214 - val_accuracy: 0.7988 - val_loss: 0.5940 - learning_rate: 2.0000e-04\n",
            "Epoch 19/100\n",
            "\u001b[1m273/273\u001b[0m \u001b[32m━━━━━━━━━━━━━━━━━━━━\u001b[0m\u001b[37m\u001b[0m \u001b[1m3s\u001b[0m 9ms/step - accuracy: 0.9350 - loss: 0.1903 - val_accuracy: 0.7817 - val_loss: 0.6217 - learning_rate: 2.0000e-04\n",
            "Epoch 20/100\n",
            "\u001b[1m273/273\u001b[0m \u001b[32m━━━━━━━━━━━━━━━━━━━━\u001b[0m\u001b[37m\u001b[0m \u001b[1m3s\u001b[0m 10ms/step - accuracy: 0.9300 - loss: 0.1905 - val_accuracy: 0.7957 - val_loss: 0.5973 - learning_rate: 2.0000e-04\n",
            "Epoch 21/100\n",
            "\u001b[1m273/273\u001b[0m \u001b[32m━━━━━━━━━━━━━━━━━━━━\u001b[0m\u001b[37m\u001b[0m \u001b[1m2s\u001b[0m 6ms/step - accuracy: 0.9267 - loss: 0.1878 - val_accuracy: 0.7910 - val_loss: 0.6051 - learning_rate: 2.0000e-04\n",
            "Epoch 22/100\n",
            "\u001b[1m273/273\u001b[0m \u001b[32m━━━━━━━━━━━━━━━━━━━━\u001b[0m\u001b[37m\u001b[0m \u001b[1m3s\u001b[0m 7ms/step - accuracy: 0.9377 - loss: 0.1696 - val_accuracy: 0.7926 - val_loss: 0.6142 - learning_rate: 2.0000e-04\n",
            "Epoch 23/100\n",
            "\u001b[1m273/273\u001b[0m \u001b[32m━━━━━━━━━━━━━━━━━━━━\u001b[0m\u001b[37m\u001b[0m \u001b[1m3s\u001b[0m 7ms/step - accuracy: 0.9307 - loss: 0.1862 - val_accuracy: 0.7972 - val_loss: 0.6224 - learning_rate: 2.0000e-04\n",
            "Epoch 24/100\n",
            "\u001b[1m273/273\u001b[0m \u001b[32m━━━━━━━━━━━━━━━━━━━━\u001b[0m\u001b[37m\u001b[0m \u001b[1m3s\u001b[0m 7ms/step - accuracy: 0.9369 - loss: 0.1683 - val_accuracy: 0.7957 - val_loss: 0.6066 - learning_rate: 1.0000e-04\n",
            "Epoch 25/100\n",
            "\u001b[1m273/273\u001b[0m \u001b[32m━━━━━━━━━━━━━━━━━━━━\u001b[0m\u001b[37m\u001b[0m \u001b[1m3s\u001b[0m 11ms/step - accuracy: 0.9366 - loss: 0.1667 - val_accuracy: 0.7833 - val_loss: 0.6313 - learning_rate: 1.0000e-04\n",
            "Epoch 26/100\n",
            "\u001b[1m273/273\u001b[0m \u001b[32m━━━━━━━━━━━━━━━━━━━━\u001b[0m\u001b[37m\u001b[0m \u001b[1m2s\u001b[0m 9ms/step - accuracy: 0.9449 - loss: 0.1611 - val_accuracy: 0.7972 - val_loss: 0.6051 - learning_rate: 1.0000e-04\n",
            "Epoch 27/100\n",
            "\u001b[1m273/273\u001b[0m \u001b[32m━━━━━━━━━━━━━━━━━━━━\u001b[0m\u001b[37m\u001b[0m \u001b[1m2s\u001b[0m 7ms/step - accuracy: 0.9371 - loss: 0.1712 - val_accuracy: 0.8019 - val_loss: 0.5927 - learning_rate: 1.0000e-04\n",
            "Epoch 28/100\n",
            "\u001b[1m273/273\u001b[0m \u001b[32m━━━━━━━━━━━━━━━━━━━━\u001b[0m\u001b[37m\u001b[0m \u001b[1m3s\u001b[0m 7ms/step - accuracy: 0.9304 - loss: 0.1831 - val_accuracy: 0.8019 - val_loss: 0.6068 - learning_rate: 1.0000e-04\n",
            "Epoch 29/100\n",
            "\u001b[1m273/273\u001b[0m \u001b[32m━━━━━━━━━━━━━━━━━━━━\u001b[0m\u001b[37m\u001b[0m \u001b[1m2s\u001b[0m 6ms/step - accuracy: 0.9405 - loss: 0.1693 - val_accuracy: 0.7941 - val_loss: 0.6170 - learning_rate: 1.0000e-04\n",
            "Epoch 30/100\n",
            "\u001b[1m273/273\u001b[0m \u001b[32m━━━━━━━━━━━━━━━━━━━━\u001b[0m\u001b[37m\u001b[0m \u001b[1m3s\u001b[0m 6ms/step - accuracy: 0.9426 - loss: 0.1663 - val_accuracy: 0.7988 - val_loss: 0.6045 - learning_rate: 1.0000e-04\n",
            "Epoch 31/100\n",
            "\u001b[1m273/273\u001b[0m \u001b[32m━━━━━━━━━━━━━━━━━━━━\u001b[0m\u001b[37m\u001b[0m \u001b[1m3s\u001b[0m 12ms/step - accuracy: 0.9411 - loss: 0.1744 - val_accuracy: 0.7941 - val_loss: 0.5856 - learning_rate: 1.0000e-04\n",
            "Epoch 32/100\n",
            "\u001b[1m273/273\u001b[0m \u001b[32m━━━━━━━━━━━━━━━━━━━━\u001b[0m\u001b[37m\u001b[0m \u001b[1m4s\u001b[0m 7ms/step - accuracy: 0.9382 - loss: 0.1707 - val_accuracy: 0.8034 - val_loss: 0.5927 - learning_rate: 1.0000e-04\n",
            "Epoch 33/100\n",
            "\u001b[1m273/273\u001b[0m \u001b[32m━━━━━━━━━━━━━━━━━━━━\u001b[0m\u001b[37m\u001b[0m \u001b[1m2s\u001b[0m 7ms/step - accuracy: 0.9427 - loss: 0.1607 - val_accuracy: 0.8065 - val_loss: 0.6062 - learning_rate: 1.0000e-04\n",
            "Epoch 34/100\n",
            "\u001b[1m273/273\u001b[0m \u001b[32m━━━━━━━━━━━━━━━━━━━━\u001b[0m\u001b[37m\u001b[0m \u001b[1m2s\u001b[0m 7ms/step - accuracy: 0.9347 - loss: 0.1673 - val_accuracy: 0.8065 - val_loss: 0.6049 - learning_rate: 1.0000e-04\n",
            "Epoch 35/100\n",
            "\u001b[1m273/273\u001b[0m \u001b[32m━━━━━━━━━━━━━━━━━━━━\u001b[0m\u001b[37m\u001b[0m \u001b[1m3s\u001b[0m 7ms/step - accuracy: 0.9455 - loss: 0.1478 - val_accuracy: 0.7957 - val_loss: 0.6209 - learning_rate: 1.0000e-04\n",
            "Epoch 36/100\n",
            "\u001b[1m273/273\u001b[0m \u001b[32m━━━━━━━━━━━━━━━━━━━━\u001b[0m\u001b[37m\u001b[0m \u001b[1m3s\u001b[0m 10ms/step - accuracy: 0.9538 - loss: 0.1367 - val_accuracy: 0.8050 - val_loss: 0.5906 - learning_rate: 1.0000e-04\n",
            "Epoch 37/100\n",
            "\u001b[1m273/273\u001b[0m \u001b[32m━━━━━━━━━━━━━━━━━━━━\u001b[0m\u001b[37m\u001b[0m \u001b[1m4s\u001b[0m 7ms/step - accuracy: 0.9422 - loss: 0.1540 - val_accuracy: 0.8142 - val_loss: 0.5873 - learning_rate: 1.0000e-04\n",
            "Epoch 38/100\n",
            "\u001b[1m273/273\u001b[0m \u001b[32m━━━━━━━━━━━━━━━━━━━━\u001b[0m\u001b[37m\u001b[0m \u001b[1m2s\u001b[0m 7ms/step - accuracy: 0.9405 - loss: 0.1613 - val_accuracy: 0.8050 - val_loss: 0.5872 - learning_rate: 1.0000e-04\n",
            "Epoch 39/100\n",
            "\u001b[1m273/273\u001b[0m \u001b[32m━━━━━━━━━━━━━━━━━━━━\u001b[0m\u001b[37m\u001b[0m \u001b[1m2s\u001b[0m 7ms/step - accuracy: 0.9332 - loss: 0.1842 - val_accuracy: 0.7941 - val_loss: 0.5895 - learning_rate: 1.0000e-04\n",
            "Epoch 40/100\n",
            "\u001b[1m273/273\u001b[0m \u001b[32m━━━━━━━━━━━━━━━━━━━━\u001b[0m\u001b[37m\u001b[0m \u001b[1m2s\u001b[0m 6ms/step - accuracy: 0.9419 - loss: 0.1563 - val_accuracy: 0.8019 - val_loss: 0.5889 - learning_rate: 1.0000e-04\n",
            "Epoch 41/100\n",
            "\u001b[1m273/273\u001b[0m \u001b[32m━━━━━━━━━━━━━━━━━━━━\u001b[0m\u001b[37m\u001b[0m \u001b[1m4s\u001b[0m 12ms/step - accuracy: 0.9440 - loss: 0.1487 - val_accuracy: 0.7926 - val_loss: 0.5956 - learning_rate: 1.0000e-04\n",
            "Epoch 42/100\n",
            "\u001b[1m273/273\u001b[0m \u001b[32m━━━━━━━━━━━━━━━━━━━━\u001b[0m\u001b[37m\u001b[0m \u001b[1m2s\u001b[0m 8ms/step - accuracy: 0.9442 - loss: 0.1442 - val_accuracy: 0.7988 - val_loss: 0.6064 - learning_rate: 1.0000e-04\n",
            "Epoch 43/100\n",
            "\u001b[1m273/273\u001b[0m \u001b[32m━━━━━━━━━━━━━━━━━━━━\u001b[0m\u001b[37m\u001b[0m \u001b[1m2s\u001b[0m 7ms/step - accuracy: 0.9412 - loss: 0.1520 - val_accuracy: 0.8080 - val_loss: 0.5942 - learning_rate: 1.0000e-04\n",
            "Epoch 44/100\n",
            "\u001b[1m273/273\u001b[0m \u001b[32m━━━━━━━━━━━━━━━━━━━━\u001b[0m\u001b[37m\u001b[0m \u001b[1m3s\u001b[0m 7ms/step - accuracy: 0.9491 - loss: 0.1529 - val_accuracy: 0.8003 - val_loss: 0.6147 - learning_rate: 1.0000e-04\n",
            "Epoch 45/100\n",
            "\u001b[1m273/273\u001b[0m \u001b[32m━━━━━━━━━━━━━━━━━━━━\u001b[0m\u001b[37m\u001b[0m \u001b[1m3s\u001b[0m 7ms/step - accuracy: 0.9389 - loss: 0.1671 - val_accuracy: 0.8065 - val_loss: 0.5912 - learning_rate: 1.0000e-04\n",
            "Epoch 46/100\n",
            "\u001b[1m273/273\u001b[0m \u001b[32m━━━━━━━━━━━━━━━━━━━━\u001b[0m\u001b[37m\u001b[0m \u001b[1m2s\u001b[0m 8ms/step - accuracy: 0.9447 - loss: 0.1495 - val_accuracy: 0.8065 - val_loss: 0.5758 - learning_rate: 1.0000e-04\n",
            "Epoch 47/100\n",
            "\u001b[1m273/273\u001b[0m \u001b[32m━━━━━━━━━━━━━━━━━━━━\u001b[0m\u001b[37m\u001b[0m \u001b[1m4s\u001b[0m 12ms/step - accuracy: 0.9456 - loss: 0.1517 - val_accuracy: 0.8003 - val_loss: 0.5912 - learning_rate: 1.0000e-04\n",
            "Epoch 48/100\n",
            "\u001b[1m273/273\u001b[0m \u001b[32m━━━━━━━━━━━━━━━━━━━━\u001b[0m\u001b[37m\u001b[0m \u001b[1m4s\u001b[0m 7ms/step - accuracy: 0.9516 - loss: 0.1348 - val_accuracy: 0.8127 - val_loss: 0.5687 - learning_rate: 1.0000e-04\n",
            "Epoch 49/100\n",
            "\u001b[1m273/273\u001b[0m \u001b[32m━━━━━━━━━━━━━━━━━━━━\u001b[0m\u001b[37m\u001b[0m \u001b[1m3s\u001b[0m 7ms/step - accuracy: 0.9476 - loss: 0.1484 - val_accuracy: 0.8127 - val_loss: 0.5799 - learning_rate: 1.0000e-04\n",
            "Epoch 50/100\n",
            "\u001b[1m273/273\u001b[0m \u001b[32m━━━━━━━━━━━━━━━━━━━━\u001b[0m\u001b[37m\u001b[0m \u001b[1m2s\u001b[0m 7ms/step - accuracy: 0.9355 - loss: 0.1736 - val_accuracy: 0.8050 - val_loss: 0.5906 - learning_rate: 1.0000e-04\n",
            "Epoch 51/100\n",
            "\u001b[1m273/273\u001b[0m \u001b[32m━━━━━━━━━━━━━━━━━━━━\u001b[0m\u001b[37m\u001b[0m \u001b[1m3s\u001b[0m 9ms/step - accuracy: 0.9443 - loss: 0.1561 - val_accuracy: 0.7957 - val_loss: 0.6236 - learning_rate: 1.0000e-04\n",
            "Epoch 52/100\n",
            "\u001b[1m273/273\u001b[0m \u001b[32m━━━━━━━━━━━━━━━━━━━━\u001b[0m\u001b[37m\u001b[0m \u001b[1m3s\u001b[0m 11ms/step - accuracy: 0.9472 - loss: 0.1389 - val_accuracy: 0.7957 - val_loss: 0.6252 - learning_rate: 1.0000e-04\n",
            "Epoch 53/100\n",
            "\u001b[1m273/273\u001b[0m \u001b[32m━━━━━━━━━━━━━━━━━━━━\u001b[0m\u001b[37m\u001b[0m \u001b[1m4s\u001b[0m 7ms/step - accuracy: 0.9472 - loss: 0.1394 - val_accuracy: 0.7972 - val_loss: 0.6228 - learning_rate: 1.0000e-04\n",
            "Epoch 54/100\n",
            "\u001b[1m273/273\u001b[0m \u001b[32m━━━━━━━━━━━━━━━━━━━━\u001b[0m\u001b[37m\u001b[0m \u001b[1m2s\u001b[0m 7ms/step - accuracy: 0.9521 - loss: 0.1394 - val_accuracy: 0.7972 - val_loss: 0.6211 - learning_rate: 1.0000e-04\n",
            "Epoch 55/100\n",
            "\u001b[1m273/273\u001b[0m \u001b[32m━━━━━━━━━━━━━━━━━━━━\u001b[0m\u001b[37m\u001b[0m \u001b[1m2s\u001b[0m 7ms/step - accuracy: 0.9495 - loss: 0.1318 - val_accuracy: 0.7941 - val_loss: 0.6105 - learning_rate: 1.0000e-04\n",
            "Epoch 56/100\n",
            "\u001b[1m273/273\u001b[0m \u001b[32m━━━━━━━━━━━━━━━━━━━━\u001b[0m\u001b[37m\u001b[0m \u001b[1m2s\u001b[0m 7ms/step - accuracy: 0.9529 - loss: 0.1361 - val_accuracy: 0.8019 - val_loss: 0.6060 - learning_rate: 1.0000e-04\n",
            "Epoch 57/100\n",
            "\u001b[1m273/273\u001b[0m \u001b[32m━━━━━━━━━━━━━━━━━━━━\u001b[0m\u001b[37m\u001b[0m \u001b[1m3s\u001b[0m 12ms/step - accuracy: 0.9518 - loss: 0.1334 - val_accuracy: 0.8034 - val_loss: 0.6092 - learning_rate: 1.0000e-04\n",
            "Epoch 58/100\n",
            "\u001b[1m273/273\u001b[0m \u001b[32m━━━━━━━━━━━━━━━━━━━━\u001b[0m\u001b[37m\u001b[0m \u001b[1m2s\u001b[0m 8ms/step - accuracy: 0.9463 - loss: 0.1487 - val_accuracy: 0.8019 - val_loss: 0.6160 - learning_rate: 1.0000e-04\n",
            "Epoch 59/100\n",
            "\u001b[1m273/273\u001b[0m \u001b[32m━━━━━━━━━━━━━━━━━━━━\u001b[0m\u001b[37m\u001b[0m \u001b[1m2s\u001b[0m 7ms/step - accuracy: 0.9433 - loss: 0.1482 - val_accuracy: 0.8034 - val_loss: 0.5994 - learning_rate: 1.0000e-04\n",
            "Epoch 60/100\n",
            "\u001b[1m273/273\u001b[0m \u001b[32m━━━━━━━━━━━━━━━━━━━━\u001b[0m\u001b[37m\u001b[0m \u001b[1m2s\u001b[0m 7ms/step - accuracy: 0.9527 - loss: 0.1302 - val_accuracy: 0.8111 - val_loss: 0.6039 - learning_rate: 1.0000e-04\n",
            "Epoch 61/100\n",
            "\u001b[1m273/273\u001b[0m \u001b[32m━━━━━━━━━━━━━━━━━━━━\u001b[0m\u001b[37m\u001b[0m \u001b[1m3s\u001b[0m 7ms/step - accuracy: 0.9487 - loss: 0.1351 - val_accuracy: 0.8003 - val_loss: 0.6194 - learning_rate: 1.0000e-04\n",
            "Epoch 62/100\n",
            "\u001b[1m273/273\u001b[0m \u001b[32m━━━━━━━━━━━━━━━━━━━━\u001b[0m\u001b[37m\u001b[0m \u001b[1m2s\u001b[0m 7ms/step - accuracy: 0.9487 - loss: 0.1429 - val_accuracy: 0.8019 - val_loss: 0.6134 - learning_rate: 1.0000e-04\n",
            "Epoch 63/100\n",
            "\u001b[1m273/273\u001b[0m \u001b[32m━━━━━━━━━━━━━━━━━━━━\u001b[0m\u001b[37m\u001b[0m \u001b[1m4s\u001b[0m 12ms/step - accuracy: 0.9508 - loss: 0.1357 - val_accuracy: 0.8111 - val_loss: 0.5981 - learning_rate: 1.0000e-04\n",
            "\u001b[1m20/20\u001b[0m \u001b[32m━━━━━━━━━━━━━━━━━━━━\u001b[0m\u001b[37m\u001b[0m \u001b[1m0s\u001b[0m 4ms/step - accuracy: 0.8789 - loss: 0.5344\n",
            "\n",
            "Test accuracy: 0.7890\n"
          ]
        },
        {
          "output_type": "display_data",
          "data": {
            "text/plain": [
              "<Figure size 1200x400 with 2 Axes>"
            ],
            "image/png": "[encoded data removed]"
          },
          "metadata": {}
        },
        {
          "output_type": "stream",
          "name": "stderr",
          "text": [
            "WARNING:absl:You are saving your model as an HDF5 file via `model.save()` or `keras.saving.save_model(model)`. This file format is considered legacy. We recommend using instead the native Keras format, e.g. `model.save('my_model.keras')` or `keras.saving.save_model(model, 'my_model.keras')`. \n"
          ]
        }
      ],
      "source": [
        "import numpy as np\n",
        "from tensorflow.keras.models import Sequential\n",
        "from tensorflow.keras.layers import Dense, Dropout, Conv1D, MaxPooling1D, Flatten\n",
        "from tensorflow.keras.utils import to_categorical\n",
        "from tensorflow.keras.callbacks import EarlyStopping, ReduceLROnPlateau\n",
        "from tensorflow.keras.optimizers import Adam\n",
        "\n",
        "# Load data yang sudah disimpan\n",
        "X_train = np.load(\"train_landmarks.npy\")\n",
        "y_train = np.load(\"train_labels.npy\")\n",
        "X_val = np.load(\"val_landmarks.npy\")\n",
        "y_val = np.load(\"val_labels.npy\")\n",
        "X_test = np.load(\"test_landmarks.npy\")\n",
        "y_test = np.load(\"test_labels.npy\")\n",
        "\n",
        "# Reshape data untuk CNN 1D (63 features dari 21 landmark points dengan 3 koordinat)\n",
        "X_train = X_train.reshape(-1, 63, 1)\n",
        "X_val = X_val.reshape(-1, 63, 1)\n",
        "X_test = X_test.reshape(-1, 63, 1)\n",
        "\n",
        "# One-hot encoding untuk labels\n",
        "y_train = to_categorical(y_train)\n",
        "y_val = to_categorical(y_val)\n",
        "y_test = to_categorical(y_test, num_classes=34)\n",
        "\n",
        "# Model Architecture\n",
        "def create_model():\n",
        "    model = Sequential([\n",
        "        # First Conv1D layer\n",
        "        Conv1D(32, 3, activation='relu', input_shape=(63, 1)),\n",
        "        MaxPooling1D(2),\n",
        "\n",
        "        # Second Conv1D layer\n",
        "        Conv1D(64, 3, activation='relu'),\n",
        "        MaxPooling1D(2),\n",
        "\n",
        "        # Flatten layer\n",
        "        Flatten(),\n",
        "\n",
        "        # Dense layers\n",
        "        Dense(128, activation='relu'),\n",
        "        Dropout(0.3),\n",
        "        Dense(64, activation='relu'),\n",
        "        Dropout(0.2),\n",
        "        Dense(34, activation='softmax')\n",
        "    ])\n",
        "\n",
        "    optimizer = Adam(learning_rate=0.001)\n",
        "    model.compile(\n",
        "        optimizer=optimizer,\n",
        "        loss='categorical_crossentropy',\n",
        "        metrics=['accuracy']\n",
        "    )\n",
        "\n",
        "    return model\n",
        "\n",
        "# Callbacks\n",
        "early_stopping = EarlyStopping(\n",
        "    monitor='val_loss',\n",
        "    patience=15,\n",
        "    restore_best_weights=True\n",
        ")\n",
        "\n",
        "reduce_lr = ReduceLROnPlateau(\n",
        "    monitor='val_loss',\n",
        "    factor=0.2,\n",
        "    patience=5,\n",
        "    min_lr=0.0001\n",
        ")\n",
        "\n",
        "# Create and train model\n",
        "model = create_model()\n",
        "print(model.summary())\n",
        "\n",
        "history = model.fit(\n",
        "    X_train, y_train,\n",
        "    epochs=100,\n",
        "    batch_size=16,  # Kecil karena dataset kecil\n",
        "    validation_data=(X_val, y_val),\n",
        "    callbacks=[early_stopping, reduce_lr],\n",
        "    verbose=1\n",
        ")\n",
        "\n",
        "# Evaluasi model\n",
        "test_loss, test_accuracy = model.evaluate(X_test, y_test)\n",
        "print(f\"\\nTest accuracy: {test_accuracy:.4f}\")\n",
        "\n",
        "# Visualisasi hasil training\n",
        "import matplotlib.pyplot as plt\n",
        "\n",
        "plt.figure(figsize=(12, 4))\n",
        "\n",
        "# Plot accuracy\n",
        "plt.subplot(1, 2, 1)\n",
        "plt.plot(history.history['accuracy'], label='Training')\n",
        "plt.plot(history.history['val_accuracy'], label='Validation')\n",
        "plt.title('Model Accuracy')\n",
        "plt.xlabel('Epoch')\n",
        "plt.ylabel('Accuracy')\n",
        "plt.legend()\n",
        "\n",
        "# Plot loss\n",
        "plt.subplot(1, 2, 2)\n",
        "plt.plot(history.history['loss'], label='Training')\n",
        "plt.plot(history.history['val_loss'], label='Validation')\n",
        "plt.title('Model Loss')\n",
        "plt.xlabel('Epoch')\n",
        "plt.ylabel('Loss')\n",
        "plt.legend()\n",
        "\n",
        "plt.tight_layout()\n",
        "plt.show()\n",
        "\n",
        "# Simpan model\n",
        "model.save('hand_gesture_model.h5')"
      ]
    },
    {
      "cell_type": "markdown",
      "source": [
        "## Cek One-Hot Encoding\n",
        "Pastikan y_train, y_val, dan y_test benar-benar memiliki 34 kelas:"
      ],
      "metadata": {
        "id": "liQGBnBSNTVv"
      }
    },
    {
      "cell_type": "code",
      "source": [
        "print(y_train.shape)  # Harusnya (1893, 34)\n",
        "print(y_val.shape)    # Harusnya (245, 34)\n",
        "print(y_test.shape)   # Harusnya (237, 34)\n"
      ],
      "metadata": {
        "colab": {
          "base_uri": "https://localhost:8080/"
        },
        "id": "0yxd0gnrNkI8",
        "outputId": "66dd9693-5552-4086-b808-8db63298e763"
      },
      "execution_count": null,
      "outputs": [
        {
          "output_type": "stream",
          "name": "stdout",
          "text": [
            "(4362, 34)\n",
            "(646, 34)\n",
            "(635, 34)\n"
          ]
        }
      ]
    },
    {
      "cell_type": "markdown",
      "source": [
        "Jika hasilnya (None, 34), berarti one-hot encoding sudah benar."
      ],
      "metadata": {
        "id": "18Cb4pzjNsj-"
      }
    },
    {
      "cell_type": "markdown",
      "source": [
        "### Kamu bisa menggunakan confusion matrix untuk mengevaluasi model CNN dalam gesture recognition. Berikut langkah-langkahnya:"
      ],
      "metadata": {
        "id": "YJeUgN2gkIlQ"
      }
    },
    {
      "cell_type": "markdown",
      "source": [
        "1.   Import Library yang Diperlukan\n",
        "\n",
        "Kita perlu menggunakan confusion_matrix dan classification_report dari sklearn.metrics untuk menghitung metrik evaluasi:"
      ],
      "metadata": {
        "id": "ddJRm0lmhk4l"
      }
    },
    {
      "cell_type": "code",
      "source": [
        "import numpy as np\n",
        "import matplotlib.pyplot as plt\n",
        "import seaborn as sns\n",
        "from sklearn.metrics import confusion_matrix, classification_report\n",
        "\n",
        "# Load kembali data uji\n",
        "X_test = np.load(\"test_landmarks.npy\").reshape(-1, 63, 1)\n",
        "y_test = np.load(\"test_labels.npy\")\n",
        "\n",
        "# Load model yang sudah dilatih\n",
        "from tensorflow.keras.models import load_model\n",
        "model = load_model('hand_gesture_model.h5')\n",
        "\n",
        "# Prediksi pada data uji\n",
        "y_pred = model.predict(X_test)\n",
        "y_pred_classes = np.argmax(y_pred, axis=1)  # Ambil kelas dengan probabilitas tertinggi\n",
        "y_test_classes = y_test  # Karena sudah dalam bentuk label"
      ],
      "metadata": {
        "colab": {
          "base_uri": "https://localhost:8080/"
        },
        "id": "BciI9PkGh1xP",
        "outputId": "a2d2835b-05eb-4f47-a2ab-7bca244fbec1"
      },
      "execution_count": null,
      "outputs": [
        {
          "output_type": "stream",
          "name": "stderr",
          "text": [
            "WARNING:absl:Compiled the loaded model, but the compiled metrics have yet to be built. `model.compile_metrics` will be empty until you train or evaluate the model.\n"
          ]
        },
        {
          "output_type": "stream",
          "name": "stdout",
          "text": [
            "\u001b[1m20/20\u001b[0m \u001b[32m━━━━━━━━━━━━━━━━━━━━\u001b[0m\u001b[37m\u001b[0m \u001b[1m2s\u001b[0m 42ms/step\n"
          ]
        }
      ]
    },
    {
      "cell_type": "markdown",
      "source": [
        "### 2.   Buat Confusion Matrix\n",
        "Setelah mendapatkan prediksi model (y_pred_classes), kita bisa membuat confusion matrix:\n",
        "\n"
      ],
      "metadata": {
        "id": "fIgq5b17h81u"
      }
    },
    {
      "cell_type": "code",
      "source": [
        "# Buat confusion matrix\n",
        "cm = confusion_matrix(y_test_classes, y_pred_classes)\n",
        "\n",
        "# Visualisasi confusion matrix\n",
        "plt.figure(figsize=(10, 8))\n",
        "sns.heatmap(cm, annot=True, fmt='d', cmap='Blues', xticklabels=label_mapping.keys(), yticklabels=label_mapping.keys())\n",
        "plt.xlabel('Predicted')\n",
        "plt.ylabel('Actual')\n",
        "plt.title('Confusion Matrix')\n",
        "plt.show()"
      ],
      "metadata": {
        "colab": {
          "base_uri": "https://localhost:8080/",
          "height": 767
        },
        "id": "deofzzfzh90F",
        "outputId": "37f8e982-720b-47dd-a816-6e6dd6bf91ea"
      },
      "execution_count": null,
      "outputs": [
        {
          "output_type": "display_data",
          "data": {
            "text/plain": [
              "<Figure size 1000x800 with 2 Axes>"
            ],
            "image/png": "[encoded data removed]"
          },
          "metadata": {}
        }
      ]
    },
    {
      "cell_type": "markdown",
      "source": [
        "###3.   Hitung Precision dan Recall\n",
        "\n",
        "Kamu bisa langsung menggunakan classification_report() untuk mendapatkan precision, recall, dan F1-score:\n",
        "\n",
        "\n",
        "\n",
        "\n"
      ],
      "metadata": {
        "id": "ZDGns97-qHa8"
      }
    },
    {
      "cell_type": "code",
      "source": [
        "# Tampilkan classification report\n",
        "print(classification_report(y_test_classes, y_pred_classes, target_names=label_mapping.keys()))\n"
      ],
      "metadata": {
        "colab": {
          "base_uri": "https://localhost:8080/"
        },
        "id": "pItSEcEBqbDV",
        "outputId": "c4d839b4-2221-46df-965b-c8c0ec876de1"
      },
      "execution_count": null,
      "outputs": [
        {
          "output_type": "stream",
          "name": "stdout",
          "text": [
            "              precision    recall  f1-score   support\n",
            "\n",
            "        satu       0.60      1.00      0.75        18\n",
            "         dua       0.37      0.85      0.51        13\n",
            "        tiga       1.00      0.89      0.94        19\n",
            "       empat       0.79      0.95      0.86        20\n",
            "        lima       0.86      0.95      0.90        20\n",
            "        enam       0.53      0.95      0.68        20\n",
            "       tujuh       1.00      0.95      0.97        19\n",
            "     delapan       0.90      1.00      0.95        19\n",
            "    sembilan       0.54      1.00      0.70        19\n",
            "     sepuluh       0.90      1.00      0.95        19\n",
            "           a       0.71      0.83      0.77        18\n",
            "           b       1.00      0.67      0.80        18\n",
            "           c       0.88      0.79      0.83        19\n",
            "           d       1.00      0.50      0.67        18\n",
            "           e       0.63      1.00      0.77        17\n",
            "           f       1.00      0.20      0.33        20\n",
            "           g       0.95      0.95      0.95        20\n",
            "           h       0.82      0.90      0.86        20\n",
            "           i       1.00      1.00      1.00        18\n",
            "           k       1.00      0.75      0.86        20\n",
            "           l       1.00      1.00      1.00        18\n",
            "           m       0.68      0.72      0.70        18\n",
            "           n       0.91      0.53      0.67        19\n",
            "           o       0.89      0.94      0.92        18\n",
            "           p       0.75      1.00      0.86        18\n",
            "           q       1.00      1.00      1.00        17\n",
            "           r       0.90      0.95      0.92        19\n",
            "           s       0.62      0.68      0.65        19\n",
            "           t       0.86      0.30      0.44        20\n",
            "           u       1.00      0.78      0.88        18\n",
            "           v       0.60      0.15      0.24        20\n",
            "           w       0.75      0.15      0.25        20\n",
            "           x       0.76      0.68      0.72        19\n",
            "           y       0.90      1.00      0.95        18\n",
            "\n",
            "    accuracy                           0.79       635\n",
            "   macro avg       0.83      0.79      0.77       635\n",
            "weighted avg       0.83      0.79      0.77       635\n",
            "\n"
          ]
        }
      ]
    },
    {
      "cell_type": "markdown",
      "source": [
        "Laporan ini akan menunjukkan metrik precision, recall, dan F1-score untuk setiap kelas."
      ],
      "metadata": {
        "id": "FnJP4ee5qFX_"
      }
    },
    {
      "cell_type": "markdown",
      "source": [
        "###4. Cara Perhitungan Precision dan Recall dari Confusion Matrix\n",
        "Jika ingin menghitung precision dan recall secara manual dari confusion matrix:\n",
        "\n",
        "Precision = TP / (TP + FP)\n",
        "→ Dari semua prediksi kelas ini, berapa yang benar?\n",
        "\n",
        "Recall = TP / (TP + FN)\n",
        "→ Dari semua data sebenarnya kelas ini, berapa yang berhasil dideteksi?\n",
        "\n",
        "Kode untuk menghitungnya:"
      ],
      "metadata": {
        "id": "74UuapCuq3it"
      }
    },
    {
      "cell_type": "code",
      "source": [
        "# Precision dan Recall per kelas\n",
        "precision_per_class = np.diag(cm) / np.sum(cm, axis=0)\n",
        "recall_per_class = np.diag(cm) / np.sum(cm, axis=1)\n",
        "\n",
        "# Cetak hasil precision dan recall\n",
        "for i, class_name in enumerate(label_mapping.keys()):\n",
        "    print(f\"{class_name} - Precision: {precision_per_class[i]:.2f}, Recall: {recall_per_class[i]:.2f}\")\n"
      ],
      "metadata": {
        "colab": {
          "base_uri": "https://localhost:8080/"
        },
        "id": "layM18I_q77l",
        "outputId": "45a8e505-869a-4062-ca05-ccf00e7fd02b"
      },
      "execution_count": null,
      "outputs": [
        {
          "output_type": "stream",
          "name": "stdout",
          "text": [
            "satu - Precision: 0.60, Recall: 1.00\n",
            "dua - Precision: 0.37, Recall: 0.85\n",
            "tiga - Precision: 1.00, Recall: 0.89\n",
            "empat - Precision: 0.79, Recall: 0.95\n",
            "lima - Precision: 0.86, Recall: 0.95\n",
            "enam - Precision: 0.53, Recall: 0.95\n",
            "tujuh - Precision: 1.00, Recall: 0.95\n",
            "delapan - Precision: 0.90, Recall: 1.00\n",
            "sembilan - Precision: 0.54, Recall: 1.00\n",
            "sepuluh - Precision: 0.90, Recall: 1.00\n",
            "a - Precision: 0.71, Recall: 0.83\n",
            "b - Precision: 1.00, Recall: 0.67\n",
            "c - Precision: 0.88, Recall: 0.79\n",
            "d - Precision: 1.00, Recall: 0.50\n",
            "e - Precision: 0.63, Recall: 1.00\n",
            "f - Precision: 1.00, Recall: 0.20\n",
            "g - Precision: 0.95, Recall: 0.95\n",
            "h - Precision: 0.82, Recall: 0.90\n",
            "i - Precision: 1.00, Recall: 1.00\n",
            "k - Precision: 1.00, Recall: 0.75\n",
            "l - Precision: 1.00, Recall: 1.00\n",
            "m - Precision: 0.68, Recall: 0.72\n",
            "n - Precision: 0.91, Recall: 0.53\n",
            "o - Precision: 0.89, Recall: 0.94\n",
            "p - Precision: 0.75, Recall: 1.00\n",
            "q - Precision: 1.00, Recall: 1.00\n",
            "r - Precision: 0.90, Recall: 0.95\n",
            "s - Precision: 0.62, Recall: 0.68\n",
            "t - Precision: 0.86, Recall: 0.30\n",
            "u - Precision: 1.00, Recall: 0.78\n",
            "v - Precision: 0.60, Recall: 0.15\n",
            "w - Precision: 0.75, Recall: 0.15\n",
            "x - Precision: 0.76, Recall: 0.68\n",
            "y - Precision: 0.90, Recall: 1.00\n"
          ]
        }
      ]
    },
    {
      "cell_type": "markdown",
      "source": [
        "###5. Ambil Rata-rata Precision dan Recall\n",
        "Untuk melihat performa keseluruhan model:"
      ],
      "metadata": {
        "id": "SR1RhGN0rBa1"
      }
    },
    {
      "cell_type": "code",
      "source": [
        "macro_precision = np.mean(precision_per_class)\n",
        "macro_recall = np.mean(recall_per_class)\n",
        "\n",
        "print(f\"\\nMacro Precision: {macro_precision:.2f}\")\n",
        "print(f\"Macro Recall: {macro_recall:.2f}\")\n"
      ],
      "metadata": {
        "colab": {
          "base_uri": "https://localhost:8080/"
        },
        "id": "kuhvZ1ujrD5d",
        "outputId": "445a0da7-9acc-4699-8cab-9f60124aaf81"
      },
      "execution_count": null,
      "outputs": [
        {
          "output_type": "stream",
          "name": "stdout",
          "text": [
            "\n",
            "Macro Precision: 0.83\n",
            "Macro Recall: 0.79\n"
          ]
        }
      ]
    },
    {
      "cell_type": "code",
      "execution_count": null,
      "metadata": {
        "colab": {
          "base_uri": "https://localhost:8080/",
          "height": 54
        },
        "id": "mvJkTj_jn7ln",
        "outputId": "cabd31f1-46ba-4b27-9363-2b40b53bb2bc"
      },
      "outputs": [
        {
          "output_type": "stream",
          "name": "stderr",
          "text": [
            "WARNING:absl:You are saving your model as an HDF5 file via `model.save()` or `keras.saving.save_model(model)`. This file format is considered legacy. We recommend using instead the native Keras format, e.g. `model.save('my_model.keras')` or `keras.saving.save_model(model, 'my_model.keras')`. \n"
          ]
        },
        {
          "output_type": "display_data",
          "data": {
            "text/plain": [
              "<IPython.core.display.Javascript object>"
            ],
            "application/javascript": [
              "\n",
              "    async function download(id, filename, size) {\n",
              "      if (!google.colab.kernel.accessAllowed) {\n",
              "        return;\n",
              "      }\n",
              "      const div = document.createElement('div');\n",
              "      const label = document.createElement('label');\n",
              "      label.textContent = `Downloading \"${filename}\": `;\n",
              "      div.appendChild(label);\n",
              "      const progress = document.createElement('progress');\n",
              "      progress.max = size;\n",
              "      div.appendChild(progress);\n",
              "      document.body.appendChild(div);\n",
              "\n",
              "      const buffers = [];\n",
              "      let downloaded = 0;\n",
              "\n",
              "      const channel = await google.colab.kernel.comms.open(id);\n",
              "      // Send a message to notify the kernel that we're ready.\n",
              "      channel.send({})\n",
              "\n",
              "      for await (const message of channel.messages) {\n",
              "        // Send a message to notify the kernel that we're ready.\n",
              "        channel.send({})\n",
              "        if (message.buffers) {\n",
              "          for (const buffer of message.buffers) {\n",
              "            buffers.push(buffer);\n",
              "            downloaded += buffer.byteLength;\n",
              "            progress.value = downloaded;\n",
              "          }\n",
              "        }\n",
              "      }\n",
              "      const blob = new Blob(buffers, {type: 'application/binary'});\n",
              "      const a = document.createElement('a');\n",
              "      a.href = window.URL.createObjectURL(blob);\n",
              "      a.download = filename;\n",
              "      div.appendChild(a);\n",
              "      a.click();\n",
              "      div.remove();\n",
              "    }\n",
              "  "
            ]
          },
          "metadata": {}
        },
        {
          "output_type": "display_data",
          "data": {
            "text/plain": [
              "<IPython.core.display.Javascript object>"
            ],
            "application/javascript": [
              "download(\"download_7c0a6e9e-c4d4-4d0a-b59c-17ac0d8fa0e8\", \"hand_gesture_model.h5\", 564856)"
            ]
          },
          "metadata": {}
        }
      ],
      "source": [
        "# Setelah training selesai, simpan model\n",
        "model.save('hand_gesture_model.h5')\n",
        "\n",
        "# Download model ke komputer lokal\n",
        "from google.colab import files\n",
        "files.download('hand_gesture_model.h5')"
      ]
    },
    {
      "cell_type": "markdown",
      "metadata": {
        "id": "ymWV3I4ZpP8h"
      },
      "source": [
        "# JALANKAN DI LOKAL"
      ]
    },
    {
      "cell_type": "code",
      "execution_count": null,
      "metadata": {
        "colab": {
          "base_uri": "https://localhost:8080/"
        },
        "id": "XmhTnBtvpdh1",
        "outputId": "5e2be809-c31d-4673-c130-725898eab1e5"
      },
      "outputs": [
        {
          "output_type": "stream",
          "name": "stdout",
          "text": [
            "Requirement already satisfied: tensorflow in /usr/local/lib/python3.11/dist-packages (2.18.0)\n",
            "Requirement already satisfied: opencv-python in /usr/local/lib/python3.11/dist-packages (4.11.0.86)\n",
            "Requirement already satisfied: mediapipe in /usr/local/lib/python3.11/dist-packages (0.10.9)\n",
            "Requirement already satisfied: numpy in /usr/local/lib/python3.11/dist-packages (1.26.4)\n",
            "Requirement already satisfied: absl-py>=1.0.0 in /usr/local/lib/python3.11/dist-packages (from tensorflow) (1.4.0)\n",
            "Requirement already satisfied: astunparse>=1.6.0 in /usr/local/lib/python3.11/dist-packages (from tensorflow) (1.6.3)\n",
            "Requirement already satisfied: flatbuffers>=24.3.25 in /usr/local/lib/python3.11/dist-packages (from tensorflow) (25.2.10)\n",
            "Requirement already satisfied: gast!=0.5.0,!=0.5.1,!=0.5.2,>=0.2.1 in /usr/local/lib/python3.11/dist-packages (from tensorflow) (0.6.0)\n",
            "Requirement already satisfied: google-pasta>=0.1.1 in /usr/local/lib/python3.11/dist-packages (from tensorflow) (0.2.0)\n",
            "Requirement already satisfied: libclang>=13.0.0 in /usr/local/lib/python3.11/dist-packages (from tensorflow) (18.1.1)\n",
            "Requirement already satisfied: opt-einsum>=2.3.2 in /usr/local/lib/python3.11/dist-packages (from tensorflow) (3.4.0)\n",
            "Requirement already satisfied: packaging in /usr/local/lib/python3.11/dist-packages (from tensorflow) (24.2)\n",
            "Requirement already satisfied: protobuf!=4.21.0,!=4.21.1,!=4.21.2,!=4.21.3,!=4.21.4,!=4.21.5,<6.0.0dev,>=3.20.3 in /usr/local/lib/python3.11/dist-packages (from tensorflow) (3.20.3)\n",
            "Requirement already satisfied: requests<3,>=2.21.0 in /usr/local/lib/python3.11/dist-packages (from tensorflow) (2.32.3)\n",
            "Requirement already satisfied: setuptools in /usr/local/lib/python3.11/dist-packages (from tensorflow) (75.1.0)\n",
            "Requirement already satisfied: six>=1.12.0 in /usr/local/lib/python3.11/dist-packages (from tensorflow) (1.17.0)\n",
            "Requirement already satisfied: termcolor>=1.1.0 in /usr/local/lib/python3.11/dist-packages (from tensorflow) (2.5.0)\n",
            "Requirement already satisfied: typing-extensions>=3.6.6 in /usr/local/lib/python3.11/dist-packages (from tensorflow) (4.12.2)\n",
            "Requirement already satisfied: wrapt>=1.11.0 in /usr/local/lib/python3.11/dist-packages (from tensorflow) (1.17.2)\n",
            "Requirement already satisfied: grpcio<2.0,>=1.24.3 in /usr/local/lib/python3.11/dist-packages (from tensorflow) (1.71.0)\n",
            "Requirement already satisfied: tensorboard<2.19,>=2.18 in /usr/local/lib/python3.11/dist-packages (from tensorflow) (2.18.0)\n",
            "Requirement already satisfied: keras>=3.5.0 in /usr/local/lib/python3.11/dist-packages (from tensorflow) (3.8.0)\n",
            "Requirement already satisfied: h5py>=3.11.0 in /usr/local/lib/python3.11/dist-packages (from tensorflow) (3.13.0)\n",
            "Requirement already satisfied: ml-dtypes<0.5.0,>=0.4.0 in /usr/local/lib/python3.11/dist-packages (from tensorflow) (0.4.1)\n",
            "Requirement already satisfied: tensorflow-io-gcs-filesystem>=0.23.1 in /usr/local/lib/python3.11/dist-packages (from tensorflow) (0.37.1)\n",
            "Requirement already satisfied: attrs>=19.1.0 in /usr/local/lib/python3.11/dist-packages (from mediapipe) (25.3.0)\n",
            "Requirement already satisfied: matplotlib in /usr/local/lib/python3.11/dist-packages (from mediapipe) (3.10.0)\n",
            "Requirement already satisfied: opencv-contrib-python in /usr/local/lib/python3.11/dist-packages (from mediapipe) (4.11.0.86)\n",
            "Requirement already satisfied: sounddevice>=0.4.4 in /usr/local/lib/python3.11/dist-packages (from mediapipe) (0.5.1)\n",
            "Requirement already satisfied: wheel<1.0,>=0.23.0 in /usr/local/lib/python3.11/dist-packages (from astunparse>=1.6.0->tensorflow) (0.45.1)\n",
            "Requirement already satisfied: rich in /usr/local/lib/python3.11/dist-packages (from keras>=3.5.0->tensorflow) (13.9.4)\n",
            "Requirement already satisfied: namex in /usr/local/lib/python3.11/dist-packages (from keras>=3.5.0->tensorflow) (0.0.8)\n",
            "Requirement already satisfied: optree in /usr/local/lib/python3.11/dist-packages (from keras>=3.5.0->tensorflow) (0.14.1)\n",
            "Requirement already satisfied: charset-normalizer<4,>=2 in /usr/local/lib/python3.11/dist-packages (from requests<3,>=2.21.0->tensorflow) (3.4.1)\n",
            "Requirement already satisfied: idna<4,>=2.5 in /usr/local/lib/python3.11/dist-packages (from requests<3,>=2.21.0->tensorflow) (3.10)\n",
            "Requirement already satisfied: urllib3<3,>=1.21.1 in /usr/local/lib/python3.11/dist-packages (from requests<3,>=2.21.0->tensorflow) (2.3.0)\n",
            "Requirement already satisfied: certifi>=2017.4.17 in /usr/local/lib/python3.11/dist-packages (from requests<3,>=2.21.0->tensorflow) (2025.1.31)\n",
            "Requirement already satisfied: CFFI>=1.0 in /usr/local/lib/python3.11/dist-packages (from sounddevice>=0.4.4->mediapipe) (1.17.1)\n",
            "Requirement already satisfied: markdown>=2.6.8 in /usr/local/lib/python3.11/dist-packages (from tensorboard<2.19,>=2.18->tensorflow) (3.7)\n",
            "Requirement already satisfied: tensorboard-data-server<0.8.0,>=0.7.0 in /usr/local/lib/python3.11/dist-packages (from tensorboard<2.19,>=2.18->tensorflow) (0.7.2)\n",
            "Requirement already satisfied: werkzeug>=1.0.1 in /usr/local/lib/python3.11/dist-packages (from tensorboard<2.19,>=2.18->tensorflow) (3.1.3)\n",
            "Requirement already satisfied: contourpy>=1.0.1 in /usr/local/lib/python3.11/dist-packages (from matplotlib->mediapipe) (1.3.1)\n",
            "Requirement already satisfied: cycler>=0.10 in /usr/local/lib/python3.11/dist-packages (from matplotlib->mediapipe) (0.12.1)\n",
            "Requirement already satisfied: fonttools>=4.22.0 in /usr/local/lib/python3.11/dist-packages (from matplotlib->mediapipe) (4.56.0)\n",
            "Requirement already satisfied: kiwisolver>=1.3.1 in /usr/local/lib/python3.11/dist-packages (from matplotlib->mediapipe) (1.4.8)\n",
            "Requirement already satisfied: pillow>=8 in /usr/local/lib/python3.11/dist-packages (from matplotlib->mediapipe) (11.1.0)\n",
            "Requirement already satisfied: pyparsing>=2.3.1 in /usr/local/lib/python3.11/dist-packages (from matplotlib->mediapipe) (3.2.1)\n",
            "Requirement already satisfied: python-dateutil>=2.7 in /usr/local/lib/python3.11/dist-packages (from matplotlib->mediapipe) (2.8.2)\n",
            "Requirement already satisfied: pycparser in /usr/local/lib/python3.11/dist-packages (from CFFI>=1.0->sounddevice>=0.4.4->mediapipe) (2.22)\n",
            "Requirement already satisfied: MarkupSafe>=2.1.1 in /usr/local/lib/python3.11/dist-packages (from werkzeug>=1.0.1->tensorboard<2.19,>=2.18->tensorflow) (3.0.2)\n",
            "Requirement already satisfied: markdown-it-py>=2.2.0 in /usr/local/lib/python3.11/dist-packages (from rich->keras>=3.5.0->tensorflow) (3.0.0)\n",
            "Requirement already satisfied: pygments<3.0.0,>=2.13.0 in /usr/local/lib/python3.11/dist-packages (from rich->keras>=3.5.0->tensorflow) (2.18.0)\n",
            "Requirement already satisfied: mdurl~=0.1 in /usr/local/lib/python3.11/dist-packages (from markdown-it-py>=2.2.0->rich->keras>=3.5.0->tensorflow) (0.1.2)\n"
          ]
        }
      ],
      "source": [
        "pip install tensorflow opencv-python mediapipe numpy"
      ]
    },
    {
      "cell_type": "code",
      "execution_count": null,
      "metadata": {
        "colab": {
          "base_uri": "https://localhost:8080/"
        },
        "id": "DMpEdnv4pN_E",
        "outputId": "1039f1b8-b046-4dbf-93b2-876395b93c1a"
      },
      "outputs": [
        {
          "output_type": "stream",
          "name": "stderr",
          "text": [
            "WARNING:absl:Compiled the loaded model, but the compiled metrics have yet to be built. `model.compile_metrics` will be empty until you train or evaluate the model.\n"
          ]
        }
      ],
      "source": [
        "import cv2\n",
        "import mediapipe as mp\n",
        "import numpy as np\n",
        "from tensorflow.keras.models import load_model\n",
        "\n",
        "def realtime_recognition():\n",
        "    # Load model yang sudah ditraining\n",
        "    model = load_model('hand_gesture_model.h5')\n",
        "\n",
        "    # Setup MediaPipe\n",
        "    mp_hands = mp.solutions.hands\n",
        "    hands = mp_hands.Hands(\n",
        "        static_image_mode=False,\n",
        "        max_num_hands=1,\n",
        "        min_detection_confidence=0.5,\n",
        "        min_tracking_confidence=0.5\n",
        "    )\n",
        "    mp_draw = mp.solutions.drawing_utils\n",
        "\n",
        "    # Akses webcam\n",
        "    cap = cv2.VideoCapture(0)\n",
        "\n",
        "    # Label untuk angka\n",
        "    number_labels = [\"satu\", \"dua\", \"tiga\", \"empat\", \"lima\",\n",
        "                    \"enam\", \"tujuh\", \"delapan\", \"sembilan\", \"sepuluh\"]\n",
        "\n",
        "    while True:\n",
        "        ret, frame = cap.read()\n",
        "        if not ret:\n",
        "            break\n",
        "\n",
        "        # Flip frame horizontal agar seperti mirror\n",
        "        frame = cv2.flip(frame, 1)\n",
        "\n",
        "        # Convert BGR ke RGB\n",
        "        image_rgb = cv2.cvtColor(frame, cv2.COLOR_BGR2RGB)\n",
        "        results = hands.process(image_rgb)\n",
        "\n",
        "        if results.multi_hand_landmarks:\n",
        "            hand_landmarks = results.multi_hand_landmarks[0]\n",
        "\n",
        "            # Gambar landmarks\n",
        "            mp_draw.draw_landmarks(frame, hand_landmarks, mp_hands.HAND_CONNECTIONS)\n",
        "\n",
        "            # Ekstrak landmarks\n",
        "            landmarks = np.array([[lm.x, lm.y, lm.z] for lm in hand_landmarks.landmark]).flatten()\n",
        "\n",
        "            # Prediksi\n",
        "            prediction = model.predict(landmarks.reshape(1, 63, 1), verbose=0)\n",
        "            predicted_class = np.argmax(prediction[0])\n",
        "            confidence = prediction[0][predicted_class]\n",
        "\n",
        "            # Tampilkan hasil\n",
        "            predicted_label = number_labels[predicted_class]\n",
        "            cv2.putText(frame, f\"{predicted_label} ({confidence:.2f})\",\n",
        "                       (10, 50), cv2.FONT_HERSHEY_SIMPLEX, 1, (0, 255, 0), 2)\n",
        "\n",
        "        # Tampilkan frame\n",
        "        cv2.imshow('Hand Gesture Recognition', frame)\n",
        "\n",
        "        # Tekan 'q' untuk keluar\n",
        "        if cv2.waitKey(1) & 0xFF == ord('q'):\n",
        "            break\n",
        "\n",
        "    cap.release()\n",
        "    cv2.destroyAllWindows()\n",
        "    hands.close()\n",
        "\n",
        "if __name__ == \"__main__\":\n",
        "    realtime_recognition()"
      ]
    }
  ],
  "metadata": {
    "colab": {
      "provenance": [],
      "include_colab_link": true
    },
    "kernelspec": {
      "display_name": "Python 3",
      "name": "python3"
    },
    "language_info": {
      "name": "python"
    }
  },
  "nbformat": 4,
  "nbformat_minor": 0
}